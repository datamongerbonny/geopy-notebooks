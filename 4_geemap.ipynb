{
  "cells": [
    {
      "cell_type": "markdown",
      "metadata": {
        "id": "view-in-github",
        "colab_type": "text"
      },
      "source": [
        "<a href=\"https://colab.research.google.com/github/datamongerbonny/geopy-notebooks/blob/main/4_geemap.ipynb\" target=\"_parent\"><img src=\"https://colab.research.google.com/assets/colab-badge.svg\" alt=\"Open In Colab\"/></a>"
      ]
    },
    {
      "cell_type": "markdown",
      "id": "75e0b53a",
      "metadata": {
        "id": "75e0b53a"
      },
      "source": [
        "# Chapter 4: Geospatial in the Cloud"
      ]
    },
    {
      "cell_type": "markdown",
      "id": "SGYfPSRi_Z59",
      "metadata": {
        "id": "SGYfPSRi_Z59"
      },
      "source": [
        "\n",
        "\n",
        "If your widgets are not running properly in binder--jupyter lab is known to be problematic for versions of ipywidgets beyond 7.5--\n",
        "\n",
        "you can run pip list to see your version. \n",
        "\n",
        "Either downgrade or:\n",
        "\n",
        "\n",
        "delete ipywidgets\n",
        "\n",
        "pip install ipywidgets\n",
        "conda install -c conda-forge ipyml\n",
        "\n",
        "check if it worked by running:\n",
        "\n",
        "!jupyter labextension list\n",
        "\n",
        "If it works, you should be good to go!\n",
        "\n"
      ]
    },
    {
      "cell_type": "code",
      "execution_count": null,
      "id": "bgpfAEylAMX_",
      "metadata": {
        "id": "bgpfAEylAMX_",
        "outputId": "4c9ce3a5-7157-4746-9a1c-3d1fe57cb8d4"
      },
      "outputs": [
        {
          "name": "stdout",
          "output_type": "stream",
          "text": [
            "Collecting geemap\n",
            "  Downloading geemap-0.17.1-py2.py3-none-any.whl (2.1 MB)\n",
            "\u001b[2K     \u001b[90m━━━━━━━━━━━━━━━━━━━━━━━━━━━━━━━━━━━━━━━━\u001b[0m \u001b[32m2.1/2.1 MB\u001b[0m \u001b[31m9.1 MB/s\u001b[0m eta \u001b[36m0:00:00\u001b[0m:00:01\u001b[0m0:01\u001b[0m\n",
            "\u001b[?25hRequirement already satisfied: jupyterlab>=3 in /Users/bonnymcclain/opt/miniconda3/envs/geo-env/lib/python3.9/site-packages (from geemap) (3.4.7)\n",
            "Collecting python-box\n",
            "  Downloading python_box-6.0.2-cp39-cp39-macosx_10_15_x86_64.whl (1.1 MB)\n",
            "\u001b[2K     \u001b[90m━━━━━━━━━━━━━━━━━━━━━━━━━━━━━━━━━━━━━━━━\u001b[0m \u001b[32m1.1/1.1 MB\u001b[0m \u001b[31m33.1 MB/s\u001b[0m eta \u001b[36m0:00:00\u001b[0m\n",
            "\u001b[?25hRequirement already satisfied: geojson in /Users/bonnymcclain/opt/miniconda3/envs/geo-env/lib/python3.9/site-packages (from geemap) (2.5.0)\n",
            "Collecting ipyfilechooser>=0.6.0\n",
            "  Downloading ipyfilechooser-0.6.0-py3-none-any.whl (11 kB)\n",
            "Collecting gdown\n",
            "  Using cached gdown-4.5.1-py3-none-any.whl\n",
            "Collecting ee-extra>=0.0.10\n",
            "  Downloading ee_extra-0.0.14.tar.gz (198 kB)\n",
            "\u001b[2K     \u001b[90m━━━━━━━━━━━━━━━━━━━━━━━━━━━━━━━━━━━━━━━\u001b[0m \u001b[32m198.1/198.1 kB\u001b[0m \u001b[31m8.8 MB/s\u001b[0m eta \u001b[36m0:00:00\u001b[0m\n",
            "\u001b[?25h  Preparing metadata (setup.py) ... \u001b[?25ldone\n",
            "\u001b[?25hRequirement already satisfied: folium>=0.11.0 in /Users/bonnymcclain/opt/miniconda3/envs/geo-env/lib/python3.9/site-packages (from geemap) (0.12.1.post1)\n",
            "Collecting colour\n",
            "  Downloading colour-0.1.5-py2.py3-none-any.whl (23 kB)\n",
            "Collecting whiteboxgui>=0.6.0\n",
            "  Downloading whiteboxgui-0.7.0-py2.py3-none-any.whl (99 kB)\n",
            "\u001b[2K     \u001b[90m━━━━━━━━━━━━━━━━━━━━━━━━━━━━━━━━━━━━━━━━\u001b[0m \u001b[32m99.8/99.8 kB\u001b[0m \u001b[31m4.3 MB/s\u001b[0m eta \u001b[36m0:00:00\u001b[0m\n",
            "\u001b[?25hCollecting ipyleaflet>=0.17.0\n",
            "  Downloading ipyleaflet-0.17.1-py3-none-any.whl (3.4 MB)\n",
            "\u001b[2K     \u001b[90m━━━━━━━━━━━━━━━━━━━━━━━━━━━━━━━━━━━━━━━━\u001b[0m \u001b[32m3.4/3.4 MB\u001b[0m \u001b[31m31.1 MB/s\u001b[0m eta \u001b[36m0:00:00\u001b[0ma \u001b[36m0:00:01\u001b[0m\n",
            "\u001b[?25hRequirement already satisfied: xyzservices in /Users/bonnymcclain/opt/miniconda3/envs/geo-env/lib/python3.9/site-packages (from geemap) (2022.6.0)\n",
            "Requirement already satisfied: matplotlib in /Users/bonnymcclain/opt/miniconda3/envs/geo-env/lib/python3.9/site-packages (from geemap) (3.5.3)\n",
            "Requirement already satisfied: pandas in /Users/bonnymcclain/opt/miniconda3/envs/geo-env/lib/python3.9/site-packages (from geemap) (1.4.4)\n",
            "Requirement already satisfied: earthengine-api>=0.1.304 in /Users/bonnymcclain/opt/miniconda3/envs/geo-env/lib/python3.9/site-packages (from geemap) (0.1.323)\n",
            "Collecting ffmpeg-python\n",
            "  Downloading ffmpeg_python-0.2.0-py3-none-any.whl (25 kB)\n",
            "Requirement already satisfied: pillow in /Users/bonnymcclain/opt/miniconda3/envs/geo-env/lib/python3.9/site-packages (from geemap) (9.2.0)\n",
            "Collecting sankee>=0.1.0\n",
            "  Downloading sankee-0.2.0.tar.gz (29 kB)\n",
            "  Preparing metadata (setup.py) ... \u001b[?25ldone\n",
            "\u001b[?25hRequirement already satisfied: numpy in /Users/bonnymcclain/opt/miniconda3/envs/geo-env/lib/python3.9/site-packages (from geemap) (1.23.3)\n",
            "Collecting scooby\n",
            "  Downloading scooby-0.6.0-py3-none-any.whl (14 kB)\n",
            "Collecting bqplot\n",
            "  Downloading bqplot-0.12.36-py2.py3-none-any.whl (1.2 MB)\n",
            "\u001b[2K     \u001b[90m━━━━━━━━━━━━━━━━━━━━━━━━━━━━━━━━━━━━━━━━\u001b[0m \u001b[32m1.2/1.2 MB\u001b[0m \u001b[31m25.2 MB/s\u001b[0m eta \u001b[36m0:00:00\u001b[0m00:01\u001b[0m\n",
            "\u001b[?25hCollecting geeadd>=0.5.1\n",
            "  Using cached geeadd-0.5.6-py3-none-any.whl (30 kB)\n",
            "Collecting pycrs\n",
            "  Downloading PyCRS-1.0.2.tar.gz (36 kB)\n",
            "  Preparing metadata (setup.py) ... \u001b[?25ldone\n",
            "\u001b[?25hCollecting ipyevents\n",
            "  Downloading ipyevents-2.0.1-py2.py3-none-any.whl (130 kB)\n",
            "\u001b[2K     \u001b[90m━━━━━━━━━━━━━━━━━━━━━━━━━━━━━━━━━━━━━━━\u001b[0m \u001b[32m130.5/130.5 kB\u001b[0m \u001b[31m7.6 MB/s\u001b[0m eta \u001b[36m0:00:00\u001b[0m\n",
            "\u001b[?25hCollecting ipytree\n",
            "  Downloading ipytree-0.2.2-py2.py3-none-any.whl (1.3 MB)\n",
            "\u001b[2K     \u001b[90m━━━━━━━━━━━━━━━━━━━━━━━━━━━━━━━━━━━━━━━━\u001b[0m \u001b[32m1.3/1.3 MB\u001b[0m \u001b[31m26.3 MB/s\u001b[0m eta \u001b[36m0:00:00\u001b[0m00:01\u001b[0m\n",
            "\u001b[?25hRequirement already satisfied: pyshp>=2.1.3 in /Users/bonnymcclain/opt/miniconda3/envs/geo-env/lib/python3.9/site-packages (from geemap) (2.3.1)\n",
            "Collecting geocoder\n",
            "  Downloading geocoder-1.38.1-py2.py3-none-any.whl (98 kB)\n",
            "\u001b[2K     \u001b[90m━━━━━━━━━━━━━━━━━━━━━━━━━━━━━━━━━━━━━━━━\u001b[0m \u001b[32m98.6/98.6 kB\u001b[0m \u001b[31m6.5 MB/s\u001b[0m eta \u001b[36m0:00:00\u001b[0m\n",
            "\u001b[?25hRequirement already satisfied: six in /Users/bonnymcclain/opt/miniconda3/envs/geo-env/lib/python3.9/site-packages (from earthengine-api>=0.1.304->geemap) (1.16.0)\n",
            "Requirement already satisfied: google-api-python-client<2,>=1.12.1 in /Users/bonnymcclain/opt/miniconda3/envs/geo-env/lib/python3.9/site-packages (from earthengine-api>=0.1.304->geemap) (1.12.8)\n",
            "Requirement already satisfied: google-auth>=1.4.1 in /Users/bonnymcclain/opt/miniconda3/envs/geo-env/lib/python3.9/site-packages (from earthengine-api>=0.1.304->geemap) (1.35.0)\n",
            "Requirement already satisfied: google-auth-httplib2>=0.0.3 in /Users/bonnymcclain/opt/miniconda3/envs/geo-env/lib/python3.9/site-packages (from earthengine-api>=0.1.304->geemap) (0.1.0)\n",
            "Requirement already satisfied: httplib2<1dev,>=0.9.2 in /Users/bonnymcclain/opt/miniconda3/envs/geo-env/lib/python3.9/site-packages (from earthengine-api>=0.1.304->geemap) (0.20.4)\n",
            "Requirement already satisfied: httplib2shim in /Users/bonnymcclain/opt/miniconda3/envs/geo-env/lib/python3.9/site-packages (from earthengine-api>=0.1.304->geemap) (0.0.3)\n",
            "Requirement already satisfied: future in /Users/bonnymcclain/opt/miniconda3/envs/geo-env/lib/python3.9/site-packages (from earthengine-api>=0.1.304->geemap) (0.18.2)\n",
            "Requirement already satisfied: google-cloud-storage in /Users/bonnymcclain/opt/miniconda3/envs/geo-env/lib/python3.9/site-packages (from earthengine-api>=0.1.304->geemap) (1.19.0)\n",
            "Requirement already satisfied: jinja2>=2.9 in /Users/bonnymcclain/opt/miniconda3/envs/geo-env/lib/python3.9/site-packages (from folium>=0.11.0->geemap) (3.1.2)\n",
            "Requirement already satisfied: branca>=0.3.0 in /Users/bonnymcclain/opt/miniconda3/envs/geo-env/lib/python3.9/site-packages (from folium>=0.11.0->geemap) (0.5.0)\n",
            "Requirement already satisfied: requests in /Users/bonnymcclain/opt/miniconda3/envs/geo-env/lib/python3.9/site-packages (from folium>=0.11.0->geemap) (2.28.1)\n",
            "Collecting logzero>=1.5.0\n",
            "  Downloading logzero-1.7.0-py2.py3-none-any.whl (16 kB)\n",
            "Requirement already satisfied: beautifulsoup4>=4.9.0 in /Users/bonnymcclain/opt/miniconda3/envs/geo-env/lib/python3.9/site-packages (from geeadd>=0.5.1->geemap) (4.11.1)\n",
            "Requirement already satisfied: ipywidgets in /Users/bonnymcclain/opt/miniconda3/envs/geo-env/lib/python3.9/site-packages (from ipyfilechooser>=0.6.0->geemap) (7.6.5)\n",
            "Collecting traittypes<3,>=0.2.1\n",
            "  Downloading traittypes-0.2.1-py2.py3-none-any.whl (8.6 kB)\n",
            "Requirement already satisfied: nbclassic in /Users/bonnymcclain/opt/miniconda3/envs/geo-env/lib/python3.9/site-packages (from jupyterlab>=3->geemap) (0.4.3)\n",
            "Requirement already satisfied: notebook<7 in /Users/bonnymcclain/opt/miniconda3/envs/geo-env/lib/python3.9/site-packages (from jupyterlab>=3->geemap) (6.4.12)\n",
            "Requirement already satisfied: tornado>=6.1.0 in /Users/bonnymcclain/opt/miniconda3/envs/geo-env/lib/python3.9/site-packages (from jupyterlab>=3->geemap) (6.2)\n",
            "Requirement already satisfied: ipython in /Users/bonnymcclain/opt/miniconda3/envs/geo-env/lib/python3.9/site-packages (from jupyterlab>=3->geemap) (8.5.0)\n",
            "Requirement already satisfied: jupyter-server~=1.16 in /Users/bonnymcclain/opt/miniconda3/envs/geo-env/lib/python3.9/site-packages (from jupyterlab>=3->geemap) (1.18.1)\n",
            "Requirement already satisfied: jupyterlab-server~=2.10 in /Users/bonnymcclain/opt/miniconda3/envs/geo-env/lib/python3.9/site-packages (from jupyterlab>=3->geemap) (2.15.1)\n",
            "Requirement already satisfied: jupyter-core in /Users/bonnymcclain/opt/miniconda3/envs/geo-env/lib/python3.9/site-packages (from jupyterlab>=3->geemap) (4.11.1)\n",
            "Requirement already satisfied: tomli in /Users/bonnymcclain/opt/miniconda3/envs/geo-env/lib/python3.9/site-packages (from jupyterlab>=3->geemap) (2.0.1)\n",
            "Requirement already satisfied: packaging in /Users/bonnymcclain/opt/miniconda3/envs/geo-env/lib/python3.9/site-packages (from jupyterlab>=3->geemap) (21.3)\n",
            "Collecting plotly>=5.2.2\n",
            "  Downloading plotly-5.10.0-py2.py3-none-any.whl (15.2 MB)\n"
          ]
        },
        {
          "name": "stdout",
          "output_type": "stream",
          "text": [
            "\u001b[2K     \u001b[90m━━━━━━━━━━━━━━━━━━━━━━━━━━━━━━━━━━━━━━━━\u001b[0m \u001b[32m15.2/15.2 MB\u001b[0m \u001b[31m33.7 MB/s\u001b[0m eta \u001b[36m0:00:00\u001b[0m00:01\u001b[0m00:01\u001b[0m\n",
            "\u001b[?25hCollecting whitebox\n",
            "  Downloading whitebox-2.1.4-py2.py3-none-any.whl (75 kB)\n",
            "\u001b[2K     \u001b[90m━━━━━━━━━━━━━━━━━━━━━━━━━━━━━━━━━━━━━━━━\u001b[0m \u001b[32m76.0/76.0 kB\u001b[0m \u001b[31m4.8 MB/s\u001b[0m eta \u001b[36m0:00:00\u001b[0m\n",
            "\u001b[?25hRequirement already satisfied: traitlets>=4.3.0 in /Users/bonnymcclain/opt/miniconda3/envs/geo-env/lib/python3.9/site-packages (from bqplot->geemap) (5.4.0)\n",
            "Requirement already satisfied: python-dateutil>=2.8.1 in /Users/bonnymcclain/opt/miniconda3/envs/geo-env/lib/python3.9/site-packages (from pandas->geemap) (2.8.2)\n",
            "Requirement already satisfied: pytz>=2020.1 in /Users/bonnymcclain/opt/miniconda3/envs/geo-env/lib/python3.9/site-packages (from pandas->geemap) (2022.2.1)\n",
            "Collecting filelock\n",
            "  Using cached filelock-3.8.0-py3-none-any.whl (10 kB)\n",
            "Requirement already satisfied: tqdm in /Users/bonnymcclain/opt/miniconda3/envs/geo-env/lib/python3.9/site-packages (from gdown->geemap) (4.64.1)\n",
            "Requirement already satisfied: click in /Users/bonnymcclain/opt/miniconda3/envs/geo-env/lib/python3.9/site-packages (from geocoder->geemap) (8.1.3)\n",
            "Collecting ratelim\n",
            "  Downloading ratelim-0.1.6-py2.py3-none-any.whl (4.0 kB)\n",
            "Requirement already satisfied: pyparsing>=2.2.1 in /Users/bonnymcclain/opt/miniconda3/envs/geo-env/lib/python3.9/site-packages (from matplotlib->geemap) (3.0.9)\n",
            "Requirement already satisfied: cycler>=0.10 in /Users/bonnymcclain/opt/miniconda3/envs/geo-env/lib/python3.9/site-packages (from matplotlib->geemap) (0.11.0)\n",
            "Requirement already satisfied: fonttools>=4.22.0 in /Users/bonnymcclain/opt/miniconda3/envs/geo-env/lib/python3.9/site-packages (from matplotlib->geemap) (4.37.1)\n",
            "Requirement already satisfied: kiwisolver>=1.0.1 in /Users/bonnymcclain/opt/miniconda3/envs/geo-env/lib/python3.9/site-packages (from matplotlib->geemap) (1.4.4)\n",
            "Requirement already satisfied: soupsieve>1.2 in /Users/bonnymcclain/opt/miniconda3/envs/geo-env/lib/python3.9/site-packages (from beautifulsoup4>=4.9.0->geeadd>=0.5.1->geemap) (2.3.2.post1)\n",
            "Requirement already satisfied: google-api-core<2dev,>=1.21.0 in /Users/bonnymcclain/opt/miniconda3/envs/geo-env/lib/python3.9/site-packages (from google-api-python-client<2,>=1.12.1->earthengine-api>=0.1.304->geemap) (1.25.1)\n",
            "Requirement already satisfied: uritemplate<4dev,>=3.0.0 in /Users/bonnymcclain/opt/miniconda3/envs/geo-env/lib/python3.9/site-packages (from google-api-python-client<2,>=1.12.1->earthengine-api>=0.1.304->geemap) (3.0.1)\n",
            "Requirement already satisfied: pyasn1-modules>=0.2.1 in /Users/bonnymcclain/opt/miniconda3/envs/geo-env/lib/python3.9/site-packages (from google-auth>=1.4.1->earthengine-api>=0.1.304->geemap) (0.2.8)\n",
            "Requirement already satisfied: setuptools>=40.3.0 in /Users/bonnymcclain/opt/miniconda3/envs/geo-env/lib/python3.9/site-packages (from google-auth>=1.4.1->earthengine-api>=0.1.304->geemap) (65.3.0)\n",
            "Requirement already satisfied: cachetools<5.0,>=2.0.0 in /Users/bonnymcclain/opt/miniconda3/envs/geo-env/lib/python3.9/site-packages (from google-auth>=1.4.1->earthengine-api>=0.1.304->geemap) (4.2.4)\n",
            "Requirement already satisfied: rsa<5,>=3.1.4 in /Users/bonnymcclain/opt/miniconda3/envs/geo-env/lib/python3.9/site-packages (from google-auth>=1.4.1->earthengine-api>=0.1.304->geemap) (4.9)\n",
            "Requirement already satisfied: jupyterlab-widgets>=1.0.0 in /Users/bonnymcclain/opt/miniconda3/envs/geo-env/lib/python3.9/site-packages (from ipywidgets->ipyfilechooser>=0.6.0->geemap) (3.0.3)\n",
            "Requirement already satisfied: ipykernel>=4.5.1 in /Users/bonnymcclain/opt/miniconda3/envs/geo-env/lib/python3.9/site-packages (from ipywidgets->ipyfilechooser>=0.6.0->geemap) (6.15.2)\n",
            "Requirement already satisfied: nbformat>=4.2.0 in /Users/bonnymcclain/opt/miniconda3/envs/geo-env/lib/python3.9/site-packages (from ipywidgets->ipyfilechooser>=0.6.0->geemap) (5.4.0)\n",
            "Requirement already satisfied: widgetsnbextension~=3.5.0 in /Users/bonnymcclain/opt/miniconda3/envs/geo-env/lib/python3.9/site-packages (from ipywidgets->ipyfilechooser>=0.6.0->geemap) (3.5.2)\n",
            "Requirement already satisfied: ipython-genutils~=0.2.0 in /Users/bonnymcclain/opt/miniconda3/envs/geo-env/lib/python3.9/site-packages (from ipywidgets->ipyfilechooser>=0.6.0->geemap) (0.2.0)\n",
            "Requirement already satisfied: pickleshare in /Users/bonnymcclain/opt/miniconda3/envs/geo-env/lib/python3.9/site-packages (from ipython->jupyterlab>=3->geemap) (0.7.5)\n",
            "Requirement already satisfied: decorator in /Users/bonnymcclain/opt/miniconda3/envs/geo-env/lib/python3.9/site-packages (from ipython->jupyterlab>=3->geemap) (5.1.1)\n",
            "Requirement already satisfied: pygments>=2.4.0 in /Users/bonnymcclain/opt/miniconda3/envs/geo-env/lib/python3.9/site-packages (from ipython->jupyterlab>=3->geemap) (2.13.0)\n",
            "Requirement already satisfied: matplotlib-inline in /Users/bonnymcclain/opt/miniconda3/envs/geo-env/lib/python3.9/site-packages (from ipython->jupyterlab>=3->geemap) (0.1.6)\n",
            "Requirement already satisfied: prompt-toolkit<3.1.0,>3.0.1 in /Users/bonnymcclain/opt/miniconda3/envs/geo-env/lib/python3.9/site-packages (from ipython->jupyterlab>=3->geemap) (3.0.31)\n",
            "Requirement already satisfied: pexpect>4.3 in /Users/bonnymcclain/opt/miniconda3/envs/geo-env/lib/python3.9/site-packages (from ipython->jupyterlab>=3->geemap) (4.8.0)\n",
            "Requirement already satisfied: appnope in /Users/bonnymcclain/opt/miniconda3/envs/geo-env/lib/python3.9/site-packages (from ipython->jupyterlab>=3->geemap) (0.1.3)\n",
            "Requirement already satisfied: backcall in /Users/bonnymcclain/opt/miniconda3/envs/geo-env/lib/python3.9/site-packages (from ipython->jupyterlab>=3->geemap) (0.2.0)\n",
            "Requirement already satisfied: stack-data in /Users/bonnymcclain/opt/miniconda3/envs/geo-env/lib/python3.9/site-packages (from ipython->jupyterlab>=3->geemap) (0.5.0)\n",
            "Requirement already satisfied: jedi>=0.16 in /Users/bonnymcclain/opt/miniconda3/envs/geo-env/lib/python3.9/site-packages (from ipython->jupyterlab>=3->geemap) (0.18.1)\n",
            "Requirement already satisfied: MarkupSafe>=2.0 in /Users/bonnymcclain/opt/miniconda3/envs/geo-env/lib/python3.9/site-packages (from jinja2>=2.9->folium>=0.11.0->geemap) (2.1.1)\n",
            "Requirement already satisfied: Send2Trash in /Users/bonnymcclain/opt/miniconda3/envs/geo-env/lib/python3.9/site-packages (from jupyter-server~=1.16->jupyterlab>=3->geemap) (1.8.0)\n",
            "Requirement already satisfied: websocket-client in /Users/bonnymcclain/opt/miniconda3/envs/geo-env/lib/python3.9/site-packages (from jupyter-server~=1.16->jupyterlab>=3->geemap) (1.4.1)\n",
            "Requirement already satisfied: nbconvert>=6.4.4 in /Users/bonnymcclain/opt/miniconda3/envs/geo-env/lib/python3.9/site-packages (from jupyter-server~=1.16->jupyterlab>=3->geemap) (7.0.0)\n",
            "Requirement already satisfied: argon2-cffi in /Users/bonnymcclain/opt/miniconda3/envs/geo-env/lib/python3.9/site-packages (from jupyter-server~=1.16->jupyterlab>=3->geemap) (21.3.0)\n",
            "Requirement already satisfied: prometheus-client in /Users/bonnymcclain/opt/miniconda3/envs/geo-env/lib/python3.9/site-packages (from jupyter-server~=1.16->jupyterlab>=3->geemap) (0.14.1)\n",
            "Requirement already satisfied: pyzmq>=17 in /Users/bonnymcclain/opt/miniconda3/envs/geo-env/lib/python3.9/site-packages (from jupyter-server~=1.16->jupyterlab>=3->geemap) (23.2.1)\n",
            "Requirement already satisfied: terminado>=0.8.3 in /Users/bonnymcclain/opt/miniconda3/envs/geo-env/lib/python3.9/site-packages (from jupyter-server~=1.16->jupyterlab>=3->geemap) (0.15.0)\n",
            "Requirement already satisfied: jupyter-client>=6.1.12 in /Users/bonnymcclain/opt/miniconda3/envs/geo-env/lib/python3.9/site-packages (from jupyter-server~=1.16->jupyterlab>=3->geemap) (7.3.5)\n",
            "Requirement already satisfied: anyio<4,>=3.1.0 in /Users/bonnymcclain/opt/miniconda3/envs/geo-env/lib/python3.9/site-packages (from jupyter-server~=1.16->jupyterlab>=3->geemap) (3.6.1)\n",
            "Requirement already satisfied: json5 in /Users/bonnymcclain/opt/miniconda3/envs/geo-env/lib/python3.9/site-packages (from jupyterlab-server~=2.10->jupyterlab>=3->geemap) (0.9.6)\n",
            "Requirement already satisfied: importlib-metadata>=3.6 in /Users/bonnymcclain/opt/miniconda3/envs/geo-env/lib/python3.9/site-packages (from jupyterlab-server~=2.10->jupyterlab>=3->geemap) (4.11.4)\n",
            "Requirement already satisfied: jsonschema>=3.0.1 in /Users/bonnymcclain/opt/miniconda3/envs/geo-env/lib/python3.9/site-packages (from jupyterlab-server~=2.10->jupyterlab>=3->geemap) (4.16.0)\n",
            "Requirement already satisfied: babel in /Users/bonnymcclain/opt/miniconda3/envs/geo-env/lib/python3.9/site-packages (from jupyterlab-server~=2.10->jupyterlab>=3->geemap) (2.10.3)\n"
          ]
        },
        {
          "name": "stdout",
          "output_type": "stream",
          "text": [
            "Requirement already satisfied: nest-asyncio>=1.5 in /Users/bonnymcclain/opt/miniconda3/envs/geo-env/lib/python3.9/site-packages (from notebook<7->jupyterlab>=3->geemap) (1.5.5)\n",
            "Collecting tenacity>=6.2.0\n",
            "  Downloading tenacity-8.1.0-py3-none-any.whl (23 kB)\n",
            "Requirement already satisfied: charset-normalizer<3,>=2 in /Users/bonnymcclain/opt/miniconda3/envs/geo-env/lib/python3.9/site-packages (from requests->folium>=0.11.0->geemap) (2.1.1)\n",
            "Requirement already satisfied: idna<4,>=2.5 in /Users/bonnymcclain/opt/miniconda3/envs/geo-env/lib/python3.9/site-packages (from requests->folium>=0.11.0->geemap) (3.3)\n",
            "Requirement already satisfied: certifi>=2017.4.17 in /Users/bonnymcclain/opt/miniconda3/envs/geo-env/lib/python3.9/site-packages (from requests->folium>=0.11.0->geemap) (2022.9.14)\n",
            "Requirement already satisfied: urllib3<1.27,>=1.21.1 in /Users/bonnymcclain/opt/miniconda3/envs/geo-env/lib/python3.9/site-packages (from requests->folium>=0.11.0->geemap) (1.26.11)\n",
            "Requirement already satisfied: google-resumable-media>=0.3.1 in /Users/bonnymcclain/opt/miniconda3/envs/geo-env/lib/python3.9/site-packages (from google-cloud-storage->earthengine-api>=0.1.304->geemap) (2.3.3)\n",
            "Requirement already satisfied: google-cloud-core<2.0dev,>=1.0.3 in /Users/bonnymcclain/opt/miniconda3/envs/geo-env/lib/python3.9/site-packages (from google-cloud-storage->earthengine-api>=0.1.304->geemap) (1.7.1)\n",
            "Requirement already satisfied: notebook-shim>=0.1.0 in /Users/bonnymcclain/opt/miniconda3/envs/geo-env/lib/python3.9/site-packages (from nbclassic->jupyterlab>=3->geemap) (0.1.0)\n",
            "Requirement already satisfied: PySocks!=1.5.7,>=1.5.6 in /Users/bonnymcclain/opt/miniconda3/envs/geo-env/lib/python3.9/site-packages (from requests->folium>=0.11.0->geemap) (1.7.1)\n",
            "Requirement already satisfied: sniffio>=1.1 in /Users/bonnymcclain/opt/miniconda3/envs/geo-env/lib/python3.9/site-packages (from anyio<4,>=3.1.0->jupyter-server~=1.16->jupyterlab>=3->geemap) (1.3.0)\n",
            "Requirement already satisfied: protobuf>=3.12.0 in /Users/bonnymcclain/opt/miniconda3/envs/geo-env/lib/python3.9/site-packages (from google-api-core<2dev,>=1.21.0->google-api-python-client<2,>=1.12.1->earthengine-api>=0.1.304->geemap) (4.21.5)\n",
            "Requirement already satisfied: googleapis-common-protos<2.0dev,>=1.6.0 in /Users/bonnymcclain/opt/miniconda3/envs/geo-env/lib/python3.9/site-packages (from google-api-core<2dev,>=1.21.0->google-api-python-client<2,>=1.12.1->earthengine-api>=0.1.304->geemap) (1.56.4)\n",
            "Requirement already satisfied: google-crc32c<2.0dev,>=1.0 in /Users/bonnymcclain/opt/miniconda3/envs/geo-env/lib/python3.9/site-packages (from google-resumable-media>=0.3.1->google-cloud-storage->earthengine-api>=0.1.304->geemap) (1.1.2)\n",
            "Requirement already satisfied: zipp>=0.5 in /Users/bonnymcclain/opt/miniconda3/envs/geo-env/lib/python3.9/site-packages (from importlib-metadata>=3.6->jupyterlab-server~=2.10->jupyterlab>=3->geemap) (3.8.1)\n",
            "Requirement already satisfied: debugpy>=1.0 in /Users/bonnymcclain/opt/miniconda3/envs/geo-env/lib/python3.9/site-packages (from ipykernel>=4.5.1->ipywidgets->ipyfilechooser>=0.6.0->geemap) (1.6.3)\n",
            "Requirement already satisfied: psutil in /Users/bonnymcclain/opt/miniconda3/envs/geo-env/lib/python3.9/site-packages (from ipykernel>=4.5.1->ipywidgets->ipyfilechooser>=0.6.0->geemap) (5.9.2)\n",
            "Requirement already satisfied: parso<0.9.0,>=0.8.0 in /Users/bonnymcclain/opt/miniconda3/envs/geo-env/lib/python3.9/site-packages (from jedi>=0.16->ipython->jupyterlab>=3->geemap) (0.8.3)\n",
            "Requirement already satisfied: attrs>=17.4.0 in /Users/bonnymcclain/opt/miniconda3/envs/geo-env/lib/python3.9/site-packages (from jsonschema>=3.0.1->jupyterlab-server~=2.10->jupyterlab>=3->geemap) (22.1.0)\n",
            "Requirement already satisfied: pyrsistent!=0.17.0,!=0.17.1,!=0.17.2,>=0.14.0 in /Users/bonnymcclain/opt/miniconda3/envs/geo-env/lib/python3.9/site-packages (from jsonschema>=3.0.1->jupyterlab-server~=2.10->jupyterlab>=3->geemap) (0.18.1)\n",
            "Requirement already satisfied: entrypoints in /Users/bonnymcclain/opt/miniconda3/envs/geo-env/lib/python3.9/site-packages (from jupyter-client>=6.1.12->jupyter-server~=1.16->jupyterlab>=3->geemap) (0.4)\n",
            "Requirement already satisfied: defusedxml in /Users/bonnymcclain/opt/miniconda3/envs/geo-env/lib/python3.9/site-packages (from nbconvert>=6.4.4->jupyter-server~=1.16->jupyterlab>=3->geemap) (0.7.1)\n",
            "Requirement already satisfied: lxml in /Users/bonnymcclain/opt/miniconda3/envs/geo-env/lib/python3.9/site-packages (from nbconvert>=6.4.4->jupyter-server~=1.16->jupyterlab>=3->geemap) (4.9.1)\n",
            "Requirement already satisfied: tinycss2 in /Users/bonnymcclain/opt/miniconda3/envs/geo-env/lib/python3.9/site-packages (from nbconvert>=6.4.4->jupyter-server~=1.16->jupyterlab>=3->geemap) (1.1.1)\n",
            "Requirement already satisfied: nbclient>=0.5.0 in /Users/bonnymcclain/opt/miniconda3/envs/geo-env/lib/python3.9/site-packages (from nbconvert>=6.4.4->jupyter-server~=1.16->jupyterlab>=3->geemap) (0.6.8)\n",
            "Requirement already satisfied: pandocfilters>=1.4.1 in /Users/bonnymcclain/opt/miniconda3/envs/geo-env/lib/python3.9/site-packages (from nbconvert>=6.4.4->jupyter-server~=1.16->jupyterlab>=3->geemap) (1.5.0)\n",
            "Requirement already satisfied: bleach in /Users/bonnymcclain/opt/miniconda3/envs/geo-env/lib/python3.9/site-packages (from nbconvert>=6.4.4->jupyter-server~=1.16->jupyterlab>=3->geemap) (5.0.1)\n",
            "Requirement already satisfied: mistune<3,>=2.0.3 in /Users/bonnymcclain/opt/miniconda3/envs/geo-env/lib/python3.9/site-packages (from nbconvert>=6.4.4->jupyter-server~=1.16->jupyterlab>=3->geemap) (2.0.4)\n",
            "Requirement already satisfied: jupyterlab-pygments in /Users/bonnymcclain/opt/miniconda3/envs/geo-env/lib/python3.9/site-packages (from nbconvert>=6.4.4->jupyter-server~=1.16->jupyterlab>=3->geemap) (0.2.2)\n",
            "Requirement already satisfied: fastjsonschema in /Users/bonnymcclain/opt/miniconda3/envs/geo-env/lib/python3.9/site-packages (from nbformat>=4.2.0->ipywidgets->ipyfilechooser>=0.6.0->geemap) (2.16.2)\n",
            "Requirement already satisfied: ptyprocess>=0.5 in /Users/bonnymcclain/opt/miniconda3/envs/geo-env/lib/python3.9/site-packages (from pexpect>4.3->ipython->jupyterlab>=3->geemap) (0.7.0)\n",
            "Requirement already satisfied: wcwidth in /Users/bonnymcclain/opt/miniconda3/envs/geo-env/lib/python3.9/site-packages (from prompt-toolkit<3.1.0,>3.0.1->ipython->jupyterlab>=3->geemap) (0.2.5)\n",
            "Requirement already satisfied: pyasn1<0.5.0,>=0.4.6 in /Users/bonnymcclain/opt/miniconda3/envs/geo-env/lib/python3.9/site-packages (from pyasn1-modules>=0.2.1->google-auth>=1.4.1->earthengine-api>=0.1.304->geemap) (0.4.8)\n",
            "Requirement already satisfied: argon2-cffi-bindings in /Users/bonnymcclain/opt/miniconda3/envs/geo-env/lib/python3.9/site-packages (from argon2-cffi->jupyter-server~=1.16->jupyterlab>=3->geemap) (21.2.0)\n",
            "Requirement already satisfied: pure-eval in /Users/bonnymcclain/opt/miniconda3/envs/geo-env/lib/python3.9/site-packages (from stack-data->ipython->jupyterlab>=3->geemap) (0.2.2)\n",
            "Requirement already satisfied: executing in /Users/bonnymcclain/opt/miniconda3/envs/geo-env/lib/python3.9/site-packages (from stack-data->ipython->jupyterlab>=3->geemap) (1.0.0)\n",
            "Requirement already satisfied: asttokens in /Users/bonnymcclain/opt/miniconda3/envs/geo-env/lib/python3.9/site-packages (from stack-data->ipython->jupyterlab>=3->geemap) (2.0.8)\n",
            "Requirement already satisfied: cffi>=1.0.0 in /Users/bonnymcclain/opt/miniconda3/envs/geo-env/lib/python3.9/site-packages (from google-crc32c<2.0dev,>=1.0->google-resumable-media>=0.3.1->google-cloud-storage->earthengine-api>=0.1.304->geemap) (1.15.1)\n",
            "Requirement already satisfied: webencodings in /Users/bonnymcclain/opt/miniconda3/envs/geo-env/lib/python3.9/site-packages (from bleach->nbconvert>=6.4.4->jupyter-server~=1.16->jupyterlab>=3->geemap) (0.5.1)\n",
            "Requirement already satisfied: pycparser in /Users/bonnymcclain/opt/miniconda3/envs/geo-env/lib/python3.9/site-packages (from cffi>=1.0.0->google-crc32c<2.0dev,>=1.0->google-resumable-media>=0.3.1->google-cloud-storage->earthengine-api>=0.1.304->geemap) (2.21)\n",
            "Building wheels for collected packages: ee-extra, sankee, pycrs\n",
            "  Building wheel for ee-extra (setup.py) ... \u001b[?25ldone\n",
            "\u001b[?25h  Created wheel for ee-extra: filename=ee_extra-0.0.14-py3-none-any.whl size=209100 sha256=586e80833df810a824057c2feba8e61e3339772872016cb151683ff65bd60fa9\n",
            "  Stored in directory: /Users/bonnymcclain/Library/Caches/pip/wheels/b0/be/4c/f1319bb0776a6c3af31b0f7ea7b884496be73dfa66c78354dc\n"
          ]
        },
        {
          "name": "stdout",
          "output_type": "stream",
          "text": [
            "  Building wheel for sankee (setup.py) ... \u001b[?25ldone\n",
            "\u001b[?25h  Created wheel for sankee: filename=sankee-0.2.0-py3-none-any.whl size=28722 sha256=9321a907e65ea85f0aaeef3d2fbadb1c26cbccac3423e22cd7a32894b8fa8ae6\n",
            "  Stored in directory: /Users/bonnymcclain/Library/Caches/pip/wheels/b3/b1/76/887c90e13ae29bd6ee072468858ca18cce6dbe80eef3e34438\n",
            "  Building wheel for pycrs (setup.py) ... \u001b[?25ldone\n",
            "\u001b[?25h  Created wheel for pycrs: filename=PyCRS-1.0.2-py3-none-any.whl size=32687 sha256=67610ac476bcd04e398047c1c643ebc865f754d70782de560cba1db8cdfbbf1d\n",
            "  Stored in directory: /Users/bonnymcclain/Library/Caches/pip/wheels/94/01/24/bc7bff66667ef317615144a15e04593a08d9bb322f2c427d6c\n",
            "Successfully built ee-extra sankee pycrs\n",
            "Installing collected packages: pycrs, logzero, colour, whitebox, traittypes, tenacity, scooby, ratelim, python-box, filelock, ffmpeg-python, plotly, geocoder, gdown, geeadd, ee-extra, sankee, ipytree, ipyleaflet, ipyfilechooser, ipyevents, bqplot, whiteboxgui, geemap\n",
            "Successfully installed bqplot-0.12.36 colour-0.1.5 ee-extra-0.0.14 ffmpeg-python-0.2.0 filelock-3.8.0 gdown-4.5.1 geeadd-0.5.6 geemap-0.17.1 geocoder-1.38.1 ipyevents-2.0.1 ipyfilechooser-0.6.0 ipyleaflet-0.17.1 ipytree-0.2.2 logzero-1.7.0 plotly-5.10.0 pycrs-1.0.2 python-box-6.0.2 ratelim-0.1.6 sankee-0.2.0 scooby-0.6.0 tenacity-8.1.0 traittypes-0.2.1 whitebox-2.1.4 whiteboxgui-0.7.0\n"
          ]
        }
      ],
      "source": [
        "!pip install geemap"
      ]
    },
    {
      "cell_type": "code",
      "execution_count": null,
      "id": "8ff92ecb",
      "metadata": {
        "id": "8ff92ecb",
        "outputId": "880e4e44-82f5-4f4f-b528-572a331f85b3"
      },
      "outputs": [
        {
          "name": "stdout",
          "output_type": "stream",
          "text": [
            "Collecting ee\n",
            "  Downloading ee-0.2.tar.gz (3.0 kB)\n",
            "  Preparing metadata (setup.py) ... \u001b[?25ldone\n",
            "\u001b[?25hCollecting blessings\n",
            "  Downloading blessings-1.7-py3-none-any.whl (18 kB)\n",
            "Requirement already satisfied: six in /Users/bonnymcclain/opt/miniconda3/envs/geo-env/lib/python3.9/site-packages (from blessings->ee) (1.16.0)\n",
            "Building wheels for collected packages: ee\n",
            "  Building wheel for ee (setup.py) ... \u001b[?25ldone\n",
            "\u001b[?25h  Created wheel for ee: filename=ee-0.2-py3-none-any.whl size=3656 sha256=7b1c99ab6d8a42c419193af08dd77945e4cca4d3d8541892b5d0302a867c3da1\n",
            "  Stored in directory: /Users/bonnymcclain/Library/Caches/pip/wheels/0d/6c/c0/f17fb105d1ad88aa5aff8067de0ebf7e141ea81f0df52535b9\n",
            "Successfully built ee\n",
            "Installing collected packages: blessings, ee\n",
            "Successfully installed blessings-1.7 ee-0.2\n"
          ]
        }
      ],
      "source": [
        "!pip install ee"
      ]
    },
    {
      "cell_type": "code",
      "execution_count": null,
      "id": "f736f52b",
      "metadata": {
        "id": "f736f52b"
      },
      "outputs": [],
      "source": [
        "import os\n",
        "import geemap\n",
        "import ee"
      ]
    },
    {
      "cell_type": "code",
      "execution_count": null,
      "id": "3697eab8",
      "metadata": {
        "id": "3697eab8",
        "outputId": "f8b1d99f-db3e-4c7d-8a87-234d2a665e54"
      },
      "outputs": [
        {
          "data": {
            "text/html": [
              "<p>To authorize access needed by Earth Engine, open the following\n",
              "        URL in a web browser and follow the instructions:</p>\n",
              "        <p><a href=https://code.earthengine.google.com/client-auth?scopes=https%3A//www.googleapis.com/auth/earthengine%20https%3A//www.googleapis.com/auth/devstorage.full_control&request_id=AWluBAC7QYjX-u2YG5q4-ofrhaiBdDI1M-zK6QnDqsc&tc=9mbckYlXv7oCLIPHC83ItjgNhOrNCBQ_3LjhF6NiV50&cc=TF7bhkERQGkYMeoSR5DKafgJTZPMraVORfVbw6Vdbps>https://code.earthengine.google.com/client-auth?scopes=https%3A//www.googleapis.com/auth/earthengine%20https%3A//www.googleapis.com/auth/devstorage.full_control&request_id=AWluBAC7QYjX-u2YG5q4-ofrhaiBdDI1M-zK6QnDqsc&tc=9mbckYlXv7oCLIPHC83ItjgNhOrNCBQ_3LjhF6NiV50&cc=TF7bhkERQGkYMeoSR5DKafgJTZPMraVORfVbw6Vdbps</a></p>\n",
              "        <p>The authorization workflow will generate a code, which you should paste in the box below.</p>\n",
              "        "
            ],
            "text/plain": [
              "<IPython.core.display.HTML object>"
            ]
          },
          "metadata": {},
          "output_type": "display_data"
        },
        {
          "name": "stdout",
          "output_type": "stream",
          "text": [
            "Enter verification code: 4/1ARtbsJo1D9Xg4oTUb-2kTYm5top75SgzoxnUFDFnCWg-ctqdmWUOUbD5Hlw\n",
            "\n",
            "Successfully saved authorization token.\n"
          ]
        }
      ],
      "source": [
        "ee.Authenticate()"
      ]
    },
    {
      "cell_type": "code",
      "execution_count": null,
      "id": "d2534c98",
      "metadata": {
        "id": "d2534c98"
      },
      "outputs": [],
      "source": [
        "ee.Initialize()"
      ]
    },
    {
      "cell_type": "code",
      "execution_count": null,
      "id": "85893b4d",
      "metadata": {
        "id": "85893b4d",
        "outputId": "cf633e1b-a164-4c67-a3d2-524deecf8b57",
        "colab": {
          "referenced_widgets": [
            "cbe13c498aec4f97a6ca4d33b001febc"
          ]
        }
      },
      "outputs": [
        {
          "data": {
            "application/vnd.jupyter.widget-view+json": {
              "model_id": "cbe13c498aec4f97a6ca4d33b001febc",
              "version_major": 2,
              "version_minor": 0
            },
            "text/plain": [
              "Map(center=[40, -100], controls=(WidgetControl(options=['position', 'transparent_bg'], widget=HBox(children=(T…"
            ]
          },
          "metadata": {},
          "output_type": "display_data"
        }
      ],
      "source": [
        "Map = geemap.Map(center=(40, -100), zoom=4)\n",
        "Map"
      ]
    },
    {
      "cell_type": "code",
      "execution_count": null,
      "id": "38bd2b79",
      "metadata": {
        "id": "38bd2b79",
        "outputId": "48da185b-4253-4798-cee0-0fc4a89060f1",
        "colab": {
          "referenced_widgets": [
            "b1140ef6c83a439b983c60a06c087e8f"
          ]
        }
      },
      "outputs": [
        {
          "data": {
            "application/vnd.jupyter.widget-view+json": {
              "model_id": "b1140ef6c83a439b983c60a06c087e8f",
              "version_major": 2,
              "version_minor": 0
            },
            "text/plain": [
              "Map(center=[40, -100], controls=(WidgetControl(options=['position', 'transparent_bg'], widget=HBox(children=(T…"
            ]
          },
          "metadata": {},
          "output_type": "display_data"
        }
      ],
      "source": [
        "map = geemap.Map(center =(40, -100), zoom= 4)\n",
        "map.basemap()\n",
        "map"
      ]
    },
    {
      "cell_type": "code",
      "execution_count": null,
      "id": "992161c1",
      "metadata": {
        "id": "992161c1",
        "outputId": "de1eea8f-9c5b-4a39-b511-d3eca39f2dae",
        "colab": {
          "referenced_widgets": [
            "685919d91440496cb9e8e0241dad8f27"
          ]
        }
      },
      "outputs": [
        {
          "data": {
            "application/vnd.jupyter.widget-view+json": {
              "model_id": "685919d91440496cb9e8e0241dad8f27",
              "version_major": 2,
              "version_minor": 0
            },
            "text/plain": [
              "Map(center=[40, -100], controls=(WidgetControl(options=['position', 'transparent_bg'], widget=HBox(children=(T…"
            ]
          },
          "metadata": {},
          "output_type": "display_data"
        }
      ],
      "source": [
        "map = geemap.Map(center=(40, -100), zoom=4)\n",
        "map"
      ]
    },
    {
      "cell_type": "code",
      "execution_count": null,
      "id": "aef252e2",
      "metadata": {
        "id": "aef252e2",
        "outputId": "4b7598ff-3784-4576-89ab-f9f2b9e2015e"
      },
      "outputs": [
        {
          "name": "stdout",
          "output_type": "stream",
          "text": [
            "128674\n"
          ]
        }
      ],
      "source": [
        "collection = ee.ImageCollection('LANDSAT/LC09/C02/T1_L2')\n",
        "print(collection.size().getInfo())"
      ]
    },
    {
      "cell_type": "code",
      "execution_count": null,
      "id": "aa9f285c",
      "metadata": {
        "id": "aa9f285c",
        "outputId": "58c5619f-9378-47f5-aab8-52491595b273"
      },
      "outputs": [
        {
          "name": "stdout",
          "output_type": "stream",
          "text": [
            "1453684\n"
          ]
        }
      ],
      "source": [
        "collection = ee.ImageCollection('LANDSAT/LC08/C02/T1_L2')\n",
        "print(collection.size().getInfo())"
      ]
    },
    {
      "cell_type": "code",
      "execution_count": null,
      "id": "03fbabeb",
      "metadata": {
        "id": "03fbabeb"
      },
      "outputs": [],
      "source": [
        "def apply_scale_factors(image):\n",
        "    opticalBands = image.select('SR_B.*').multiply(0.0000275).add(-0.2)\n",
        "    thermalBands = image.select('ST_B.*').multiply(0.00341802).add(149.0)\n",
        "    return image.addBands(opticalBands, None, True).addBands(thermalBands, None, True)\n",
        "\n"
      ]
    },
    {
      "cell_type": "code",
      "execution_count": null,
      "id": "18055bcb",
      "metadata": {
        "id": "18055bcb"
      },
      "outputs": [],
      "source": [
        "median =collection.median()"
      ]
    },
    {
      "cell_type": "code",
      "execution_count": null,
      "id": "b63b099e",
      "metadata": {
        "id": "b63b099e"
      },
      "outputs": [],
      "source": [
        "dataset = apply_scale_factors(median)"
      ]
    },
    {
      "cell_type": "code",
      "execution_count": null,
      "id": "bb3bd7c5",
      "metadata": {
        "id": "bb3bd7c5"
      },
      "outputs": [],
      "source": [
        "vis_natural = {\n",
        "   'bands': ['SR_B4', 'SR_B3', 'SR_B2'],\n",
        "   'min': 0.0,\n",
        "   'max': 0.3,\n",
        "}\n",
        "\n",
        "vis_nir = {\n",
        "   'bands': ['SR_B5', 'SR_B4', 'SR_B3'],\n",
        "   'min': 0.0,\n",
        "   'max': 0.3,\n",
        "}"
      ]
    },
    {
      "cell_type": "code",
      "execution_count": null,
      "id": "ce01be27",
      "metadata": {
        "id": "ce01be27"
      },
      "outputs": [],
      "source": [
        "map.addLayer(dataset, vis_natural, 'True color (432)')"
      ]
    },
    {
      "cell_type": "code",
      "execution_count": null,
      "id": "b5b73d5d",
      "metadata": {
        "id": "b5b73d5d"
      },
      "outputs": [],
      "source": [
        "vis_params = [\n",
        "   {'bands': ['SR_B4', 'SR_B3', 'SR_B2'], 'min': 0, 'max': 0.3},\n",
        "   {'bands': ['SR_B5', 'SR_B4', 'SR_B3'], 'min': 0, 'max': 0.3},\n",
        "   {'bands': ['SR_B7', 'SR_B6', 'SR_B4'], 'min': 0, 'max': 0.3},\n",
        "   {'bands': ['SR_B6', 'SR_B5', 'SR_B2'], 'min': 0, 'max': 0.3},\n",
        "]"
      ]
    },
    {
      "cell_type": "code",
      "execution_count": null,
      "id": "783f9d13",
      "metadata": {
        "id": "783f9d13"
      },
      "outputs": [],
      "source": [
        "labels = [\n",
        "   'Natural Color (4, 3, 2)',\n",
        "   'Color Infrared (5, 4, 3)',\n",
        "   'Short-Wave Infrared (7, 6 4)',\n",
        "   'Agriculture (6, 5, 2)',\n",
        "]\n",
        "\n"
      ]
    },
    {
      "cell_type": "markdown",
      "id": "35195329",
      "metadata": {
        "id": "35195329"
      },
      "source": [
        "This might take a few minutes..."
      ]
    },
    {
      "cell_type": "code",
      "execution_count": null,
      "id": "6f038082",
      "metadata": {
        "id": "6f038082",
        "outputId": "f788d10a-748b-4dbe-f4ce-82befa3f73d3",
        "colab": {
          "referenced_widgets": [
            "0f96a6b8048d462e948482065e2e92e6"
          ]
        }
      },
      "outputs": [
        {
          "data": {
            "application/vnd.jupyter.widget-view+json": {
              "model_id": "0f96a6b8048d462e948482065e2e92e6",
              "version_major": 2,
              "version_minor": 0
            },
            "text/plain": [
              "GridspecLayout(children=(Output(layout=Layout(grid_area='widget001')), Output(layout=Layout(grid_area='widget0…"
            ]
          },
          "metadata": {},
          "output_type": "display_data"
        }
      ],
      "source": [
        "geemap.linked_maps(\n",
        "   rows=2,\n",
        "   cols=2,\n",
        "   height=\"400px\",\n",
        "   center=[-3.4653, -62.2159],\n",
        "   zoom=4,\n",
        "   ee_objects=[dataset],\n",
        "   vis_params=vis_params,\n",
        "   labels=labels,\n",
        "   label_position=\"topright\",\n",
        ")"
      ]
    },
    {
      "cell_type": "code",
      "execution_count": null,
      "id": "ebe0e12c",
      "metadata": {
        "id": "ebe0e12c",
        "outputId": "276c87cb-9d7f-441d-90d9-18d9ca438e97",
        "colab": {
          "referenced_widgets": [
            "00dccf2617e5434abae7a2cbd7827067"
          ]
        }
      },
      "outputs": [
        {
          "data": {
            "application/vnd.jupyter.widget-view+json": {
              "model_id": "00dccf2617e5434abae7a2cbd7827067",
              "version_major": 2,
              "version_minor": 0
            },
            "text/plain": [
              "Map(center=[20, 0], controls=(WidgetControl(options=['position', 'transparent_bg'], widget=HBox(children=(Togg…"
            ]
          },
          "metadata": {},
          "output_type": "display_data"
        }
      ],
      "source": [
        "map = geemap.Map()  \n",
        "map"
      ]
    },
    {
      "cell_type": "code",
      "execution_count": null,
      "id": "dce23795",
      "metadata": {
        "id": "dce23795",
        "outputId": "347d9f3d-5c0a-4e54-85b4-dfe7e6df3df4",
        "colab": {
          "referenced_widgets": [
            "243f00a736d946a1ac745eca3723965e"
          ]
        }
      },
      "outputs": [
        {
          "name": "stdout",
          "output_type": "stream",
          "text": [
            "Products: ee.List({\n",
            "  \"functionInvocationValue\": {\n",
            "    \"functionName\": \"AggregateFeatureCollection.array\",\n",
            "    \"arguments\": {\n",
            "      \"collection\": {\n",
            "        \"functionInvocationValue\": {\n",
            "          \"functionName\": \"ImageCollection.load\",\n",
            "          \"arguments\": {\n",
            "            \"id\": {\n",
            "              \"constantValue\": \"USGS/NLCD_RELEASES/2019_REL/NLCD\"\n",
            "            }\n",
            "          }\n",
            "        }\n",
            "      },\n",
            "      \"property\": {\n",
            "        \"constantValue\": \"system:index\"\n",
            "      }\n",
            "    }\n",
            "  }\n",
            "})\n",
            "Bands: ['landcover', 'impervious', 'impervious_descriptor']\n"
          ]
        },
        {
          "data": {
            "application/vnd.jupyter.widget-view+json": {
              "model_id": "243f00a736d946a1ac745eca3723965e",
              "version_major": 2,
              "version_minor": 0
            },
            "text/plain": [
              "Map(center=[38, -95], controls=(WidgetControl(options=['position', 'transparent_bg'], widget=HBox(children=(To…"
            ]
          },
          "metadata": {},
          "output_type": "display_data"
        }
      ],
      "source": [
        "import geemap\n",
        "\n",
        "Map = geemap.Map()\n",
        "\n",
        "# Import the NLCD collection.\n",
        "dataset = ee.ImageCollection('USGS/NLCD_RELEASES/2019_REL/NLCD')\n",
        "\n",
        "# The collection contains images for multiple years and regions in the USA.\n",
        "print('Products:', dataset.aggregate_array('system:index'))\n",
        "\n",
        "# Filter the collection to the 2016 product.\n",
        "nlcd2016 = dataset.filter(ee.Filter.eq('system:index', '2016')).first()\n",
        "\n",
        "# Each product has multiple bands for describing aspects of land cover.\n",
        "print('Bands:', nlcd2016.bandNames().getInfo())\n",
        "\n",
        "# Select the land cover band.\n",
        "landcover = nlcd2016.select('landcover')\n",
        "\n",
        "# Display land cover on the map.\n",
        "Map.setCenter(-95, 38, 5)\n",
        "Map.addLayer(landcover, None, 'Landcover')\n",
        "Map"
      ]
    },
    {
      "cell_type": "code",
      "execution_count": null,
      "id": "281775f5",
      "metadata": {
        "id": "281775f5"
      },
      "outputs": [],
      "source": [
        "dataset_xed = ee.ImageCollection('USGS/NLCD_RELEASES/2016_REL')\n",
        "Map.addLayer(dataset_xed, {}, \"USGS/NLCD_RELEASES/2016_REL\")"
      ]
    },
    {
      "cell_type": "code",
      "execution_count": null,
      "id": "1b009a7f",
      "metadata": {
        "id": "1b009a7f"
      },
      "outputs": [],
      "source": [
        "dataset_hpn = ee.ImageCollection('USGS/NLCD_RELEASES/2016_REL')\n",
        "Map.addLayer(dataset_hpn, {}, \"USGS/NLCD_RELEASES/2016_REL\")"
      ]
    },
    {
      "cell_type": "code",
      "execution_count": null,
      "id": "730572f5",
      "metadata": {
        "id": "730572f5",
        "outputId": "09c1a365-8516-48f0-e991-fd774110a51e"
      },
      "outputs": [
        {
          "name": "stdout",
          "output_type": "stream",
          "text": [
            "NLCD\n",
            "ESA_WorldCover\n",
            "ESRI_LandCover\n",
            "ESRI_LandCover_TS\n",
            "Dynamic_World\n",
            "NWI\n",
            "MODIS/051/MCD12Q1\n",
            "MODIS/006/MCD12Q1\n",
            "GLOBCOVER\n",
            "JAXA/PALSAR\n",
            "Oxford\n",
            "AAFC/ACI\n",
            "COPERNICUS/CORINE/V20/100m\n",
            "COPERNICUS/Landcover/100m/Proba-V/Global\n",
            "USDA/NASS/CDL\n",
            "ALOS_landforms\n"
          ]
        }
      ],
      "source": [
        "legends = geemap.builtin_legends\n",
        "for legend in legends:\n",
        "    print(legend)\n",
        "\n"
      ]
    },
    {
      "cell_type": "code",
      "execution_count": null,
      "id": "c740adba",
      "metadata": {
        "id": "c740adba",
        "outputId": "2c466521-acd8-4fe9-b6ca-7db3126be497",
        "colab": {
          "referenced_widgets": [
            "e498ac4ba69d4a438b12e9930b9d2308"
          ]
        }
      },
      "outputs": [
        {
          "data": {
            "application/vnd.jupyter.widget-view+json": {
              "model_id": "e498ac4ba69d4a438b12e9930b9d2308",
              "version_major": 2,
              "version_minor": 0
            },
            "text/plain": [
              "Map(center=[20, 0], controls=(WidgetControl(options=['position', 'transparent_bg'], widget=HBox(children=(Togg…"
            ]
          },
          "metadata": {},
          "output_type": "display_data"
        }
      ],
      "source": [
        "Map = geemap.Map()\n",
        "\n",
        "legend_dict = {\n",
        "    '11 Open Water': '466b9f',\n",
        "    '12 Perennial Ice/Snow': 'd1def8',\n",
        "    '21 Developed, Open Space': 'dec5c5',\n",
        "    '22 Developed, Low Intensity': 'd99282',\n",
        "    '23 Developed, Medium Intensity': 'eb0000',\n",
        "    '24 Developed High Intensity': 'ab0000',\n",
        "    '31 Barren Land (Rock/Sand/Clay)': 'b3ac9f',\n",
        "    '41 Deciduous Forest': '68ab5f',\n",
        "    '42 Evergreen Forest': '1c5f2c',\n",
        "    '43 Mixed Forest': 'b5c58f',\n",
        "    '51 Dwarf Scrub': 'af963c',\n",
        "    '52 Shrub/Scrub': 'ccb879',\n",
        "    '71 Grassland/Herbaceous': 'dfdfc2',\n",
        "    '72 Sedge/Herbaceous': 'd1d182',\n",
        "    '73 Lichens': 'a3cc51',\n",
        "    '74 Moss': '82ba9e',\n",
        "    '81 Pasture/Hay': 'dcd939',\n",
        "    '82 Cultivated Crops': 'ab6c28',\n",
        "    '90 Woody Wetlands': 'b8d9eb',\n",
        "    '95 Emergent Herbaceous Wetlands': '6c9fb8',\n",
        "}\n",
        "\n",
        "landcover = ee.Image('USGS/NLCD/NLCD2016').select('landcover')\n",
        "Map.addLayer(landcover, {}, 'NLCD Land Cover')\n",
        "\n",
        "Map.add_legend(legend_title=\"NLCD Land Cover Classification\", legend_dict=legend_dict)\n",
        "Map"
      ]
    },
    {
      "cell_type": "code",
      "execution_count": null,
      "id": "fd143e87",
      "metadata": {
        "id": "fd143e87",
        "outputId": "600e685e-ae2d-4ffe-9ccb-6bb06e41de86",
        "colab": {
          "referenced_widgets": [
            "25a9954d69fe416281856ef7df3f7298"
          ]
        }
      },
      "outputs": [
        {
          "data": {
            "application/vnd.jupyter.widget-view+json": {
              "model_id": "25a9954d69fe416281856ef7df3f7298",
              "version_major": 2,
              "version_minor": 0
            },
            "text/plain": [
              "Map(center=[20, 0], controls=(WidgetControl(options=['position', 'transparent_bg'], widget=HBox(children=(Togg…"
            ]
          },
          "metadata": {},
          "output_type": "display_data"
        }
      ],
      "source": [
        "Map = geemap.Map()\n",
        "Map.add_basemap('HYBRID')\n",
        "landcover = ee.Image('USGS/NLCD_RELEASES/2019_REL/NLCD/2019').select('landcover')\n",
        "Map.addLayer(landcover, {}, 'NLCD Land Cover')\n",
        "Map.add_legend(builtin_legend='NLCD')\n",
        "Map"
      ]
    },
    {
      "cell_type": "markdown",
      "id": "rQb8clz4Cpy_",
      "metadata": {
        "id": "rQb8clz4Cpy_"
      },
      "source": [
        "When sharing notebooks, it is always good to share dependencies...run pip list below:"
      ]
    }
  ],
  "metadata": {
    "colab": {
      "collapsed_sections": [],
      "provenance": [],
      "include_colab_link": true
    },
    "gist": {
      "data": {
        "description": "Downloads/4_geemap.ipynb",
        "public": true
      },
      "id": ""
    },
    "hide_input": false,
    "kernelspec": {
      "display_name": "geo-env",
      "language": "python",
      "name": "myenv"
    },
    "language_info": {
      "codemirror_mode": {
        "name": "ipython",
        "version": 3
      },
      "file_extension": ".py",
      "mimetype": "text/x-python",
      "name": "python",
      "nbconvert_exporter": "python",
      "pygments_lexer": "ipython3",
      "version": "3.9.13"
    },
    "toc": {
      "base_numbering": 1,
      "nav_menu": {},
      "number_sections": true,
      "sideBar": true,
      "skip_h1_title": false,
      "title_cell": "Table of Contents",
      "title_sidebar": "Contents",
      "toc_cell": false,
      "toc_position": {},
      "toc_section_display": true,
      "toc_window_display": true
    },
    "vscode": {
      "interpreter": {
        "hash": "fcf400e0f811129b326579853ca981b4fa252510e9334ec88f55850bc1eea919"
      }
    }
  },
  "nbformat": 4,
  "nbformat_minor": 5
}