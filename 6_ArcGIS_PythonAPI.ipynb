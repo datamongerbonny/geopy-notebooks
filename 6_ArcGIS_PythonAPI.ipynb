{
 "cells": [
  {
   "cell_type": "code",
   "execution_count": 1,
   "id": "5e5cdc11",
   "metadata": {},
   "outputs": [
    {
     "ename": "ModuleNotFoundError",
     "evalue": "No module named 'arcgis'",
     "output_type": "error",
     "traceback": [
      "\u001b[0;31m---------------------------------------------------------------------------\u001b[0m",
      "\u001b[0;31mModuleNotFoundError\u001b[0m                       Traceback (most recent call last)",
      "Cell \u001b[0;32mIn [1], line 1\u001b[0m\n\u001b[0;32m----> 1\u001b[0m \u001b[38;5;28;01mimport\u001b[39;00m \u001b[38;5;21;01marcgis\u001b[39;00m\n\u001b[1;32m      2\u001b[0m \u001b[38;5;28;01mimport\u001b[39;00m \u001b[38;5;21;01mgetpass\u001b[39;00m\n\u001b[1;32m      3\u001b[0m username \u001b[38;5;241m=\u001b[39m \u001b[38;5;28minput\u001b[39m (\u001b[38;5;124m\"\u001b[39m\u001b[38;5;124mUsername:\u001b[39m\u001b[38;5;124m\"\u001b[39m)\n",
      "\u001b[0;31mModuleNotFoundError\u001b[0m: No module named 'arcgis'"
     ]
    }
   ],
   "source": [
    "import arcgis\n",
    "import getpass\n",
    "username = input (\"Username:\")\n",
    "password = getpass.getpass (\"Password:\")\n",
    "\n",
    "gis = arcgis.gis.GIS(\"https://datalchemy.maps.arcgis.com\", username, password)\n"
   ]
  },
  {
   "cell_type": "code",
   "execution_count": 1,
   "id": "45864f37",
   "metadata": {},
   "outputs": [
    {
     "ename": "Exception",
     "evalue": "A general error occurred: dlopen(/Users/bonnymcclain/opt/miniconda3/envs/arcgis/lib/python3.7/site-packages/cryptography/hazmat/bindings/_openssl.abi3.so, 0x0002): Library not loaded: @rpath/libssl.1.1.dylib\n  Referenced from: /Users/bonnymcclain/opt/miniconda3/envs/arcgis/lib/python3.7/site-packages/cryptography/hazmat/bindings/_openssl.abi3.so\n  Reason: tried: '/Users/bonnymcclain/opt/miniconda3/envs/arcgis/lib/libssl.1.1.dylib' (no such file), '/Users/bonnymcclain/opt/miniconda3/envs/arcgis/lib/libssl.1.1.dylib' (no such file), '/Users/bonnymcclain/opt/miniconda3/envs/arcgis/lib/python3.7/site-packages/cryptography/hazmat/bindings/../../../../../libssl.1.1.dylib' (no such file), '/Users/bonnymcclain/opt/miniconda3/envs/arcgis/lib/libssl.1.1.dylib' (no such file), '/Users/bonnymcclain/opt/miniconda3/envs/arcgis/lib/libssl.1.1.dylib' (no such file), '/Users/bonnymcclain/opt/miniconda3/envs/arcgis/lib/python3.7/site-packages/cryptography/hazmat/bindings/../../../../../libssl.1.1.dylib' (no such file), '/Users/bonnymcclain/opt/miniconda3/envs/arcgis/lib/libssl.1.1.dylib' (no such file), '/Users/bonnymcclain/opt/miniconda3/envs/arcgis/bin/../lib/libssl.1.1.dylib' (no such file), '/Users/bonnymcclain/opt/miniconda3/envs/arcgis/lib/libssl.1.1.dylib' (no such file), '/Users/bonnymcclain/opt/miniconda3/envs/arcgis/bin/../lib/libssl.1.1.dylib' (no such file), '/usr/local/lib/libssl.1.1.dylib' (no such file), '/usr/lib/libssl.1.1.dylib' (no such file)",
     "output_type": "error",
     "traceback": [
      "\u001b[0;31m---------------------------------------------------------------------------\u001b[0m",
      "\u001b[0;31mImportError\u001b[0m                               Traceback (most recent call last)",
      "\u001b[0;32m~/opt/miniconda3/envs/arcgis/lib/python3.7/site-packages/arcgis/gis/_impl/_con/_connection.py\u001b[0m in \u001b[0;36mpost\u001b[0;34m(self, path, params, files, **kwargs)\u001b[0m\n\u001b[1;32m   1002\u001b[0m                     resp = self._session.post(\n\u001b[0;32m-> 1003\u001b[0;31m                         \u001b[0murl\u001b[0m\u001b[0;34m=\u001b[0m\u001b[0murl\u001b[0m\u001b[0;34m,\u001b[0m \u001b[0mdata\u001b[0m\u001b[0;34m=\u001b[0m\u001b[0mparams\u001b[0m\u001b[0;34m,\u001b[0m \u001b[0mcert\u001b[0m\u001b[0;34m=\u001b[0m\u001b[0mcert\u001b[0m\u001b[0;34m,\u001b[0m \u001b[0mfiles\u001b[0m\u001b[0;34m=\u001b[0m\u001b[0mfiles\u001b[0m\u001b[0;34m,\u001b[0m \u001b[0mtimeout\u001b[0m\u001b[0;34m=\u001b[0m\u001b[0mtimeout\u001b[0m\u001b[0;34m\u001b[0m\u001b[0;34m\u001b[0m\u001b[0m\n\u001b[0m\u001b[1;32m   1004\u001b[0m                     )\n",
      "\u001b[0;32m~/opt/miniconda3/envs/arcgis/lib/python3.7/site-packages/requests/sessions.py\u001b[0m in \u001b[0;36mpost\u001b[0;34m(self, url, data, json, **kwargs)\u001b[0m\n\u001b[1;32m    634\u001b[0m \u001b[0;34m\u001b[0m\u001b[0m\n\u001b[0;32m--> 635\u001b[0;31m         \u001b[0;32mreturn\u001b[0m \u001b[0mself\u001b[0m\u001b[0;34m.\u001b[0m\u001b[0mrequest\u001b[0m\u001b[0;34m(\u001b[0m\u001b[0;34m\"POST\"\u001b[0m\u001b[0;34m,\u001b[0m \u001b[0murl\u001b[0m\u001b[0;34m,\u001b[0m \u001b[0mdata\u001b[0m\u001b[0;34m=\u001b[0m\u001b[0mdata\u001b[0m\u001b[0;34m,\u001b[0m \u001b[0mjson\u001b[0m\u001b[0;34m=\u001b[0m\u001b[0mjson\u001b[0m\u001b[0;34m,\u001b[0m \u001b[0;34m**\u001b[0m\u001b[0mkwargs\u001b[0m\u001b[0;34m)\u001b[0m\u001b[0;34m\u001b[0m\u001b[0;34m\u001b[0m\u001b[0m\n\u001b[0m\u001b[1;32m    636\u001b[0m \u001b[0;34m\u001b[0m\u001b[0m\n",
      "\u001b[0;32m~/opt/miniconda3/envs/arcgis/lib/python3.7/site-packages/requests/sessions.py\u001b[0m in \u001b[0;36mrequest\u001b[0;34m(self, method, url, params, data, headers, cookies, files, auth, timeout, allow_redirects, proxies, hooks, stream, verify, cert, json)\u001b[0m\n\u001b[1;32m    586\u001b[0m         \u001b[0msend_kwargs\u001b[0m\u001b[0;34m.\u001b[0m\u001b[0mupdate\u001b[0m\u001b[0;34m(\u001b[0m\u001b[0msettings\u001b[0m\u001b[0;34m)\u001b[0m\u001b[0;34m\u001b[0m\u001b[0;34m\u001b[0m\u001b[0m\n\u001b[0;32m--> 587\u001b[0;31m         \u001b[0mresp\u001b[0m \u001b[0;34m=\u001b[0m \u001b[0mself\u001b[0m\u001b[0;34m.\u001b[0m\u001b[0msend\u001b[0m\u001b[0;34m(\u001b[0m\u001b[0mprep\u001b[0m\u001b[0;34m,\u001b[0m \u001b[0;34m**\u001b[0m\u001b[0msend_kwargs\u001b[0m\u001b[0;34m)\u001b[0m\u001b[0;34m\u001b[0m\u001b[0;34m\u001b[0m\u001b[0m\n\u001b[0m\u001b[1;32m    588\u001b[0m \u001b[0;34m\u001b[0m\u001b[0m\n",
      "\u001b[0;32m~/opt/miniconda3/envs/arcgis/lib/python3.7/site-packages/requests/sessions.py\u001b[0m in \u001b[0;36msend\u001b[0;34m(self, request, **kwargs)\u001b[0m\n\u001b[1;32m    707\u001b[0m         \u001b[0;31m# Response manipulation hooks\u001b[0m\u001b[0;34m\u001b[0m\u001b[0;34m\u001b[0m\u001b[0;34m\u001b[0m\u001b[0m\n\u001b[0;32m--> 708\u001b[0;31m         \u001b[0mr\u001b[0m \u001b[0;34m=\u001b[0m \u001b[0mdispatch_hook\u001b[0m\u001b[0;34m(\u001b[0m\u001b[0;34m\"response\"\u001b[0m\u001b[0;34m,\u001b[0m \u001b[0mhooks\u001b[0m\u001b[0;34m,\u001b[0m \u001b[0mr\u001b[0m\u001b[0;34m,\u001b[0m \u001b[0;34m**\u001b[0m\u001b[0mkwargs\u001b[0m\u001b[0;34m)\u001b[0m\u001b[0;34m\u001b[0m\u001b[0;34m\u001b[0m\u001b[0m\n\u001b[0m\u001b[1;32m    709\u001b[0m \u001b[0;34m\u001b[0m\u001b[0m\n",
      "\u001b[0;32m~/opt/miniconda3/envs/arcgis/lib/python3.7/site-packages/requests/hooks.py\u001b[0m in \u001b[0;36mdispatch_hook\u001b[0;34m(key, hooks, hook_data, **kwargs)\u001b[0m\n\u001b[1;32m     29\u001b[0m         \u001b[0;32mfor\u001b[0m \u001b[0mhook\u001b[0m \u001b[0;32min\u001b[0m \u001b[0mhooks\u001b[0m\u001b[0;34m:\u001b[0m\u001b[0;34m\u001b[0m\u001b[0;34m\u001b[0m\u001b[0m\n\u001b[0;32m---> 30\u001b[0;31m             \u001b[0m_hook_data\u001b[0m \u001b[0;34m=\u001b[0m \u001b[0mhook\u001b[0m\u001b[0;34m(\u001b[0m\u001b[0mhook_data\u001b[0m\u001b[0;34m,\u001b[0m \u001b[0;34m**\u001b[0m\u001b[0mkwargs\u001b[0m\u001b[0;34m)\u001b[0m\u001b[0;34m\u001b[0m\u001b[0;34m\u001b[0m\u001b[0m\n\u001b[0m\u001b[1;32m     31\u001b[0m             \u001b[0;32mif\u001b[0m \u001b[0m_hook_data\u001b[0m \u001b[0;32mis\u001b[0m \u001b[0;32mnot\u001b[0m \u001b[0;32mNone\u001b[0m\u001b[0;34m:\u001b[0m\u001b[0;34m\u001b[0m\u001b[0;34m\u001b[0m\u001b[0m\n",
      "\u001b[0;32m~/opt/miniconda3/envs/arcgis/lib/python3.7/site-packages/requests_kerberos/kerberos_.py\u001b[0m in \u001b[0;36mhandle_response\u001b[0;34m(self, response, **kwargs)\u001b[0m\n\u001b[1;32m    380\u001b[0m             \u001b[0;31m# If we haven't tried, try getting it now\u001b[0m\u001b[0;34m\u001b[0m\u001b[0;34m\u001b[0m\u001b[0;34m\u001b[0m\u001b[0m\n\u001b[0;32m--> 381\u001b[0;31m             \u001b[0mcbt_application_data\u001b[0m \u001b[0;34m=\u001b[0m \u001b[0m_get_channel_bindings_application_data\u001b[0m\u001b[0;34m(\u001b[0m\u001b[0mresponse\u001b[0m\u001b[0;34m)\u001b[0m\u001b[0;34m\u001b[0m\u001b[0;34m\u001b[0m\u001b[0m\n\u001b[0m\u001b[1;32m    382\u001b[0m             \u001b[0;32mif\u001b[0m \u001b[0mcbt_application_data\u001b[0m\u001b[0;34m:\u001b[0m\u001b[0;34m\u001b[0m\u001b[0;34m\u001b[0m\u001b[0m\n",
      "\u001b[0;32m~/opt/miniconda3/envs/arcgis/lib/python3.7/site-packages/requests_kerberos/kerberos_.py\u001b[0m in \u001b[0;36m_get_channel_bindings_application_data\u001b[0;34m(response)\u001b[0m\n\u001b[1;32m    154\u001b[0m             \u001b[0;32melse\u001b[0m\u001b[0;34m:\u001b[0m\u001b[0;34m\u001b[0m\u001b[0;34m\u001b[0m\u001b[0m\n\u001b[0;32m--> 155\u001b[0;31m                 \u001b[0mcertificate_hash\u001b[0m \u001b[0;34m=\u001b[0m \u001b[0m_get_certificate_hash\u001b[0m\u001b[0;34m(\u001b[0m\u001b[0mserver_certificate\u001b[0m\u001b[0;34m)\u001b[0m\u001b[0;34m\u001b[0m\u001b[0;34m\u001b[0m\u001b[0m\n\u001b[0m\u001b[1;32m    156\u001b[0m                 \u001b[0mapplication_data\u001b[0m \u001b[0;34m=\u001b[0m \u001b[0;34mb'tls-server-end-point:'\u001b[0m \u001b[0;34m+\u001b[0m \u001b[0mcertificate_hash\u001b[0m\u001b[0;34m\u001b[0m\u001b[0;34m\u001b[0m\u001b[0m\n",
      "\u001b[0;32m~/opt/miniconda3/envs/arcgis/lib/python3.7/site-packages/requests_kerberos/kerberos_.py\u001b[0m in \u001b[0;36m_get_certificate_hash\u001b[0;34m(certificate_der)\u001b[0m\n\u001b[1;32m     99\u001b[0m     \u001b[0;31m# https://tools.ietf.org/html/rfc5929#section-4.1\u001b[0m\u001b[0;34m\u001b[0m\u001b[0;34m\u001b[0m\u001b[0;34m\u001b[0m\u001b[0m\n\u001b[0;32m--> 100\u001b[0;31m     \u001b[0mcert\u001b[0m \u001b[0;34m=\u001b[0m \u001b[0mx509\u001b[0m\u001b[0;34m.\u001b[0m\u001b[0mload_der_x509_certificate\u001b[0m\u001b[0;34m(\u001b[0m\u001b[0mcertificate_der\u001b[0m\u001b[0;34m,\u001b[0m \u001b[0mdefault_backend\u001b[0m\u001b[0;34m(\u001b[0m\u001b[0;34m)\u001b[0m\u001b[0;34m)\u001b[0m\u001b[0;34m\u001b[0m\u001b[0;34m\u001b[0m\u001b[0m\n\u001b[0m\u001b[1;32m    101\u001b[0m \u001b[0;34m\u001b[0m\u001b[0m\n",
      "\u001b[0;32m~/opt/miniconda3/envs/arcgis/lib/python3.7/site-packages/cryptography/hazmat/backends/__init__.py\u001b[0m in \u001b[0;36mdefault_backend\u001b[0;34m()\u001b[0m\n\u001b[1;32m      7\u001b[0m \u001b[0;32mdef\u001b[0m \u001b[0mdefault_backend\u001b[0m\u001b[0;34m(\u001b[0m\u001b[0;34m)\u001b[0m \u001b[0;34m->\u001b[0m \u001b[0mAny\u001b[0m\u001b[0;34m:\u001b[0m\u001b[0;34m\u001b[0m\u001b[0;34m\u001b[0m\u001b[0m\n\u001b[0;32m----> 8\u001b[0;31m     \u001b[0;32mfrom\u001b[0m \u001b[0mcryptography\u001b[0m\u001b[0;34m.\u001b[0m\u001b[0mhazmat\u001b[0m\u001b[0;34m.\u001b[0m\u001b[0mbackends\u001b[0m\u001b[0;34m.\u001b[0m\u001b[0mopenssl\u001b[0m\u001b[0;34m.\u001b[0m\u001b[0mbackend\u001b[0m \u001b[0;32mimport\u001b[0m \u001b[0mbackend\u001b[0m\u001b[0;34m\u001b[0m\u001b[0;34m\u001b[0m\u001b[0m\n\u001b[0m\u001b[1;32m      9\u001b[0m \u001b[0;34m\u001b[0m\u001b[0m\n",
      "\u001b[0;32m~/opt/miniconda3/envs/arcgis/lib/python3.7/site-packages/cryptography/hazmat/backends/openssl/__init__.py\u001b[0m in \u001b[0;36m<module>\u001b[0;34m\u001b[0m\n\u001b[1;32m      5\u001b[0m \u001b[0;34m\u001b[0m\u001b[0m\n\u001b[0;32m----> 6\u001b[0;31m \u001b[0;32mfrom\u001b[0m \u001b[0mcryptography\u001b[0m\u001b[0;34m.\u001b[0m\u001b[0mhazmat\u001b[0m\u001b[0;34m.\u001b[0m\u001b[0mbackends\u001b[0m\u001b[0;34m.\u001b[0m\u001b[0mopenssl\u001b[0m\u001b[0;34m.\u001b[0m\u001b[0mbackend\u001b[0m \u001b[0;32mimport\u001b[0m \u001b[0mbackend\u001b[0m\u001b[0;34m\u001b[0m\u001b[0;34m\u001b[0m\u001b[0m\n\u001b[0m\u001b[1;32m      7\u001b[0m \u001b[0;34m\u001b[0m\u001b[0m\n",
      "\u001b[0;32m~/opt/miniconda3/envs/arcgis/lib/python3.7/site-packages/cryptography/hazmat/backends/openssl/backend.py\u001b[0m in \u001b[0;36m<module>\u001b[0;34m\u001b[0m\n\u001b[1;32m     62\u001b[0m )\n\u001b[0;32m---> 63\u001b[0;31m \u001b[0;32mfrom\u001b[0m \u001b[0mcryptography\u001b[0m\u001b[0;34m.\u001b[0m\u001b[0mhazmat\u001b[0m\u001b[0;34m.\u001b[0m\u001b[0mbindings\u001b[0m\u001b[0;34m.\u001b[0m\u001b[0mopenssl\u001b[0m \u001b[0;32mimport\u001b[0m \u001b[0mbinding\u001b[0m\u001b[0;34m\u001b[0m\u001b[0;34m\u001b[0m\u001b[0m\n\u001b[0m\u001b[1;32m     64\u001b[0m \u001b[0;32mfrom\u001b[0m \u001b[0mcryptography\u001b[0m\u001b[0;34m.\u001b[0m\u001b[0mhazmat\u001b[0m\u001b[0;34m.\u001b[0m\u001b[0mprimitives\u001b[0m \u001b[0;32mimport\u001b[0m \u001b[0mhashes\u001b[0m\u001b[0;34m,\u001b[0m \u001b[0mserialization\u001b[0m\u001b[0;34m\u001b[0m\u001b[0;34m\u001b[0m\u001b[0m\n",
      "\u001b[0;32m~/opt/miniconda3/envs/arcgis/lib/python3.7/site-packages/cryptography/hazmat/bindings/openssl/binding.py\u001b[0m in \u001b[0;36m<module>\u001b[0;34m\u001b[0m\n\u001b[1;32m     13\u001b[0m \u001b[0;32mfrom\u001b[0m \u001b[0mcryptography\u001b[0m\u001b[0;34m.\u001b[0m\u001b[0mexceptions\u001b[0m \u001b[0;32mimport\u001b[0m \u001b[0mInternalError\u001b[0m\u001b[0;34m\u001b[0m\u001b[0;34m\u001b[0m\u001b[0m\n\u001b[0;32m---> 14\u001b[0;31m \u001b[0;32mfrom\u001b[0m \u001b[0mcryptography\u001b[0m\u001b[0;34m.\u001b[0m\u001b[0mhazmat\u001b[0m\u001b[0;34m.\u001b[0m\u001b[0mbindings\u001b[0m\u001b[0;34m.\u001b[0m\u001b[0m_openssl\u001b[0m \u001b[0;32mimport\u001b[0m \u001b[0mffi\u001b[0m\u001b[0;34m,\u001b[0m \u001b[0mlib\u001b[0m\u001b[0;34m\u001b[0m\u001b[0;34m\u001b[0m\u001b[0m\n\u001b[0m\u001b[1;32m     15\u001b[0m \u001b[0;32mfrom\u001b[0m \u001b[0mcryptography\u001b[0m\u001b[0;34m.\u001b[0m\u001b[0mhazmat\u001b[0m\u001b[0;34m.\u001b[0m\u001b[0mbindings\u001b[0m\u001b[0;34m.\u001b[0m\u001b[0mopenssl\u001b[0m\u001b[0;34m.\u001b[0m\u001b[0m_conditional\u001b[0m \u001b[0;32mimport\u001b[0m \u001b[0mCONDITIONAL_NAMES\u001b[0m\u001b[0;34m\u001b[0m\u001b[0;34m\u001b[0m\u001b[0m\n",
      "\u001b[0;31mImportError\u001b[0m: dlopen(/Users/bonnymcclain/opt/miniconda3/envs/arcgis/lib/python3.7/site-packages/cryptography/hazmat/bindings/_openssl.abi3.so, 0x0002): Library not loaded: @rpath/libssl.1.1.dylib\n  Referenced from: /Users/bonnymcclain/opt/miniconda3/envs/arcgis/lib/python3.7/site-packages/cryptography/hazmat/bindings/_openssl.abi3.so\n  Reason: tried: '/Users/bonnymcclain/opt/miniconda3/envs/arcgis/lib/libssl.1.1.dylib' (no such file), '/Users/bonnymcclain/opt/miniconda3/envs/arcgis/lib/libssl.1.1.dylib' (no such file), '/Users/bonnymcclain/opt/miniconda3/envs/arcgis/lib/python3.7/site-packages/cryptography/hazmat/bindings/../../../../../libssl.1.1.dylib' (no such file), '/Users/bonnymcclain/opt/miniconda3/envs/arcgis/lib/libssl.1.1.dylib' (no such file), '/Users/bonnymcclain/opt/miniconda3/envs/arcgis/lib/libssl.1.1.dylib' (no such file), '/Users/bonnymcclain/opt/miniconda3/envs/arcgis/lib/python3.7/site-packages/cryptography/hazmat/bindings/../../../../../libssl.1.1.dylib' (no such file), '/Users/bonnymcclain/opt/miniconda3/envs/arcgis/lib/libssl.1.1.dylib' (no such file), '/Users/bonnymcclain/opt/miniconda3/envs/arcgis/bin/../lib/libssl.1.1.dylib' (no such file), '/Users/bonnymcclain/opt/miniconda3/envs/arcgis/lib/libssl.1.1.dylib' (no such file), '/Users/bonnymcclain/opt/miniconda3/envs/arcgis/bin/../lib/libssl.1.1.dylib' (no such file), '/usr/local/lib/libssl.1.1.dylib' (no such file), '/usr/lib/libssl.1.1.dylib' (no such file)",
      "\nDuring handling of the above exception, another exception occurred:\n",
      "\u001b[0;31mException\u001b[0m                                 Traceback (most recent call last)",
      "\u001b[0;32m/var/folders/hv/rrx0n8mj291dq3qrfcb9x9bw0000gn/T/ipykernel_5059/923210915.py\u001b[0m in \u001b[0;36m<module>\u001b[0;34m\u001b[0m\n\u001b[1;32m      1\u001b[0m \u001b[0;32mfrom\u001b[0m \u001b[0marcgis\u001b[0m\u001b[0;34m.\u001b[0m\u001b[0mgis\u001b[0m \u001b[0;32mimport\u001b[0m \u001b[0mGIS\u001b[0m\u001b[0;34m\u001b[0m\u001b[0;34m\u001b[0m\u001b[0m\n\u001b[1;32m      2\u001b[0m \u001b[0;31m# Create a GIS object, as an anonymous user for this example\u001b[0m\u001b[0;34m\u001b[0m\u001b[0;34m\u001b[0m\u001b[0;34m\u001b[0m\u001b[0m\n\u001b[0;32m----> 3\u001b[0;31m \u001b[0mgis\u001b[0m \u001b[0;34m=\u001b[0m \u001b[0mGIS\u001b[0m\u001b[0;34m(\u001b[0m\u001b[0;34m)\u001b[0m\u001b[0;34m\u001b[0m\u001b[0;34m\u001b[0m\u001b[0m\n\u001b[0m",
      "\u001b[0;32m~/opt/miniconda3/envs/arcgis/lib/python3.7/site-packages/arcgis/gis/__init__.py\u001b[0m in \u001b[0;36m__init__\u001b[0;34m(self, url, username, password, key_file, cert_file, verify_cert, set_active, client_id, profile, **kwargs)\u001b[0m\n\u001b[1;32m    450\u001b[0m                 )\n\u001b[1;32m    451\u001b[0m             \u001b[0;32melse\u001b[0m\u001b[0;34m:\u001b[0m\u001b[0;34m\u001b[0m\u001b[0;34m\u001b[0m\u001b[0m\n\u001b[0;32m--> 452\u001b[0;31m                 \u001b[0;32mraise\u001b[0m \u001b[0me\u001b[0m\u001b[0;34m\u001b[0m\u001b[0;34m\u001b[0m\u001b[0m\n\u001b[0m\u001b[1;32m    453\u001b[0m         \u001b[0;32mtry\u001b[0m\u001b[0;34m:\u001b[0m\u001b[0;34m\u001b[0m\u001b[0;34m\u001b[0m\u001b[0m\n\u001b[1;32m    454\u001b[0m             if (\n",
      "\u001b[0;32m~/opt/miniconda3/envs/arcgis/lib/python3.7/site-packages/arcgis/gis/__init__.py\u001b[0m in \u001b[0;36m__init__\u001b[0;34m(self, url, username, password, key_file, cert_file, verify_cert, set_active, client_id, profile, **kwargs)\u001b[0m\n\u001b[1;32m    412\u001b[0m                 \u001b[0mclient_secret\u001b[0m\u001b[0;34m=\u001b[0m\u001b[0mclient_secret\u001b[0m\u001b[0;34m,\u001b[0m\u001b[0;34m\u001b[0m\u001b[0;34m\u001b[0m\u001b[0m\n\u001b[1;32m    413\u001b[0m                 \u001b[0mtrust_env\u001b[0m\u001b[0;34m=\u001b[0m\u001b[0mkwargs\u001b[0m\u001b[0;34m.\u001b[0m\u001b[0mget\u001b[0m\u001b[0;34m(\u001b[0m\u001b[0;34m\"trust_env\"\u001b[0m\u001b[0;34m,\u001b[0m \u001b[0;32mNone\u001b[0m\u001b[0;34m)\u001b[0m\u001b[0;34m,\u001b[0m\u001b[0;34m\u001b[0m\u001b[0;34m\u001b[0m\u001b[0m\n\u001b[0;32m--> 414\u001b[0;31m                 \u001b[0mtimeout\u001b[0m\u001b[0;34m=\u001b[0m\u001b[0mself\u001b[0m\u001b[0;34m.\u001b[0m\u001b[0m_timeout\u001b[0m\u001b[0;34m,\u001b[0m\u001b[0;34m\u001b[0m\u001b[0;34m\u001b[0m\u001b[0m\n\u001b[0m\u001b[1;32m    415\u001b[0m             )\n\u001b[1;32m    416\u001b[0m             \u001b[0;32mif\u001b[0m \u001b[0mself\u001b[0m\u001b[0;34m.\u001b[0m\u001b[0m_portal\u001b[0m\u001b[0;34m.\u001b[0m\u001b[0mis_kubernetes\u001b[0m\u001b[0;34m:\u001b[0m\u001b[0;34m\u001b[0m\u001b[0;34m\u001b[0m\u001b[0m\n",
      "\u001b[0;32m~/opt/miniconda3/envs/arcgis/lib/python3.7/site-packages/arcgis/gis/_impl/_portalpy.py\u001b[0m in \u001b[0;36m__init__\u001b[0;34m(self, url, username, password, key_file, cert_file, expiration, referer, proxy_host, proxy_port, connection, workdir, tokenurl, verify_cert, client_id, custom_auth, token, **kwargs)\u001b[0m\n\u001b[1;32m    199\u001b[0m                 )\n\u001b[1;32m    200\u001b[0m         \u001b[0;31m# self.get_version(True)\u001b[0m\u001b[0;34m\u001b[0m\u001b[0;34m\u001b[0m\u001b[0;34m\u001b[0m\u001b[0m\n\u001b[0;32m--> 201\u001b[0;31m         \u001b[0mself\u001b[0m\u001b[0;34m.\u001b[0m\u001b[0mget_properties\u001b[0m\u001b[0;34m(\u001b[0m\u001b[0;32mTrue\u001b[0m\u001b[0;34m)\u001b[0m\u001b[0;34m\u001b[0m\u001b[0;34m\u001b[0m\u001b[0m\n\u001b[0m\u001b[1;32m    202\u001b[0m \u001b[0;34m\u001b[0m\u001b[0m\n\u001b[1;32m    203\u001b[0m     \u001b[0;32mdef\u001b[0m \u001b[0madd_group_users\u001b[0m\u001b[0;34m(\u001b[0m\u001b[0mself\u001b[0m\u001b[0;34m,\u001b[0m \u001b[0muser_names\u001b[0m\u001b[0;34m,\u001b[0m \u001b[0mgroup_id\u001b[0m\u001b[0;34m,\u001b[0m \u001b[0madmin_names\u001b[0m\u001b[0;34m)\u001b[0m\u001b[0;34m:\u001b[0m\u001b[0;34m\u001b[0m\u001b[0;34m\u001b[0m\u001b[0m\n",
      "\u001b[0;32m~/opt/miniconda3/envs/arcgis/lib/python3.7/site-packages/arcgis/gis/_impl/_portalpy.py\u001b[0m in \u001b[0;36mget_properties\u001b[0;34m(self, force)\u001b[0m\n\u001b[1;32m   1218\u001b[0m                     )  # issue seen with key, cert auth\n\u001b[1;32m   1219\u001b[0m                 \u001b[0;32mif\u001b[0m \u001b[0;32mnot\u001b[0m \u001b[0mresp\u001b[0m\u001b[0;34m:\u001b[0m\u001b[0;34m\u001b[0m\u001b[0;34m\u001b[0m\u001b[0m\n\u001b[0;32m-> 1220\u001b[0;31m                     \u001b[0;32mraise\u001b[0m \u001b[0me\u001b[0m\u001b[0;34m\u001b[0m\u001b[0;34m\u001b[0m\u001b[0m\n\u001b[0m\u001b[1;32m   1221\u001b[0m \u001b[0;34m\u001b[0m\u001b[0m\n\u001b[1;32m   1222\u001b[0m             \u001b[0;32mif\u001b[0m \u001b[0mresp\u001b[0m\u001b[0;34m:\u001b[0m\u001b[0;34m\u001b[0m\u001b[0;34m\u001b[0m\u001b[0m\n",
      "\u001b[0;32m~/opt/miniconda3/envs/arcgis/lib/python3.7/site-packages/arcgis/gis/_impl/_portalpy.py\u001b[0m in \u001b[0;36mget_properties\u001b[0;34m(self, force)\u001b[0m\n\u001b[1;32m   1198\u001b[0m             \u001b[0mresp\u001b[0m \u001b[0;34m=\u001b[0m \u001b[0;32mNone\u001b[0m\u001b[0;34m\u001b[0m\u001b[0;34m\u001b[0m\u001b[0m\n\u001b[1;32m   1199\u001b[0m             \u001b[0;32mtry\u001b[0m\u001b[0;34m:\u001b[0m\u001b[0;34m\u001b[0m\u001b[0;34m\u001b[0m\u001b[0m\n\u001b[0;32m-> 1200\u001b[0;31m                 \u001b[0mresp\u001b[0m \u001b[0;34m=\u001b[0m \u001b[0mself\u001b[0m\u001b[0;34m.\u001b[0m\u001b[0mcon\u001b[0m\u001b[0;34m.\u001b[0m\u001b[0mpost\u001b[0m\u001b[0;34m(\u001b[0m\u001b[0mpath\u001b[0m\u001b[0;34m,\u001b[0m \u001b[0mself\u001b[0m\u001b[0;34m.\u001b[0m\u001b[0m_postdata\u001b[0m\u001b[0;34m(\u001b[0m\u001b[0;34m)\u001b[0m\u001b[0;34m,\u001b[0m \u001b[0mssl\u001b[0m\u001b[0;34m=\u001b[0m\u001b[0;32mTrue\u001b[0m\u001b[0;34m)\u001b[0m\u001b[0;34m\u001b[0m\u001b[0;34m\u001b[0m\u001b[0m\n\u001b[0m\u001b[1;32m   1201\u001b[0m             \u001b[0;32mexcept\u001b[0m \u001b[0mException\u001b[0m \u001b[0;32mas\u001b[0m \u001b[0me\u001b[0m\u001b[0;34m:\u001b[0m\u001b[0;34m\u001b[0m\u001b[0;34m\u001b[0m\u001b[0m\n\u001b[1;32m   1202\u001b[0m                 if (\n",
      "\u001b[0;32m~/opt/miniconda3/envs/arcgis/lib/python3.7/site-packages/arcgis/gis/_impl/_con/_connection.py\u001b[0m in \u001b[0;36mpost\u001b[0;34m(self, path, params, files, **kwargs)\u001b[0m\n\u001b[1;32m   1033\u001b[0m             )\n\u001b[1;32m   1034\u001b[0m         \u001b[0;32mexcept\u001b[0m \u001b[0mException\u001b[0m \u001b[0;32mas\u001b[0m \u001b[0me\u001b[0m\u001b[0;34m:\u001b[0m\u001b[0;34m\u001b[0m\u001b[0;34m\u001b[0m\u001b[0m\n\u001b[0;32m-> 1035\u001b[0;31m             \u001b[0;32mraise\u001b[0m \u001b[0mException\u001b[0m\u001b[0;34m(\u001b[0m\u001b[0;34m\"A general error occurred: %s\"\u001b[0m \u001b[0;34m%\u001b[0m \u001b[0me\u001b[0m\u001b[0;34m)\u001b[0m\u001b[0;34m\u001b[0m\u001b[0;34m\u001b[0m\u001b[0m\n\u001b[0m\u001b[1;32m   1036\u001b[0m         \u001b[0;32mexcept\u001b[0m\u001b[0;34m:\u001b[0m\u001b[0;34m\u001b[0m\u001b[0;34m\u001b[0m\u001b[0m\n\u001b[1;32m   1037\u001b[0m             \u001b[0;32mimport\u001b[0m \u001b[0mtraceback\u001b[0m\u001b[0;34m\u001b[0m\u001b[0;34m\u001b[0m\u001b[0m\n",
      "\u001b[0;31mException\u001b[0m: A general error occurred: dlopen(/Users/bonnymcclain/opt/miniconda3/envs/arcgis/lib/python3.7/site-packages/cryptography/hazmat/bindings/_openssl.abi3.so, 0x0002): Library not loaded: @rpath/libssl.1.1.dylib\n  Referenced from: /Users/bonnymcclain/opt/miniconda3/envs/arcgis/lib/python3.7/site-packages/cryptography/hazmat/bindings/_openssl.abi3.so\n  Reason: tried: '/Users/bonnymcclain/opt/miniconda3/envs/arcgis/lib/libssl.1.1.dylib' (no such file), '/Users/bonnymcclain/opt/miniconda3/envs/arcgis/lib/libssl.1.1.dylib' (no such file), '/Users/bonnymcclain/opt/miniconda3/envs/arcgis/lib/python3.7/site-packages/cryptography/hazmat/bindings/../../../../../libssl.1.1.dylib' (no such file), '/Users/bonnymcclain/opt/miniconda3/envs/arcgis/lib/libssl.1.1.dylib' (no such file), '/Users/bonnymcclain/opt/miniconda3/envs/arcgis/lib/libssl.1.1.dylib' (no such file), '/Users/bonnymcclain/opt/miniconda3/envs/arcgis/lib/python3.7/site-packages/cryptography/hazmat/bindings/../../../../../libssl.1.1.dylib' (no such file), '/Users/bonnymcclain/opt/miniconda3/envs/arcgis/lib/libssl.1.1.dylib' (no such file), '/Users/bonnymcclain/opt/miniconda3/envs/arcgis/bin/../lib/libssl.1.1.dylib' (no such file), '/Users/bonnymcclain/opt/miniconda3/envs/arcgis/lib/libssl.1.1.dylib' (no such file), '/Users/bonnymcclain/opt/miniconda3/envs/arcgis/bin/../lib/libssl.1.1.dylib' (no such file), '/usr/local/lib/libssl.1.1.dylib' (no such file), '/usr/lib/libssl.1.1.dylib' (no such file)"
     ]
    }
   ],
   "source": [
    "from arcgis.gis import GIS\n",
    "# Create a GIS object, as an anonymous user for this example\n",
    "gis = GIS()"
   ]
  },
  {
   "cell_type": "code",
   "execution_count": null,
   "id": "910d4362",
   "metadata": {},
   "outputs": [],
   "source": [
    "import arcgis\n",
    "from arcgis.gis import GIS\n",
    "from IPython.display import display\n",
    "\n",
    "gis = GIS()"
   ]
  },
  {
   "cell_type": "code",
   "execution_count": null,
   "id": "9e6f2d06",
   "metadata": {},
   "outputs": [],
   "source": [
    "items = gis.content.search(\"Landsat 9 Views\", item_type=\"Imagery Layer\", max_items=2)"
   ]
  },
  {
   "cell_type": "code",
   "execution_count": null,
   "id": "c72d8fb1",
   "metadata": {
    "scrolled": true
   },
   "outputs": [],
   "source": [
    "\n",
    "for item in items:\n",
    "    display(item)\n"
   ]
  },
  {
   "cell_type": "code",
   "execution_count": null,
   "id": "d20f175c",
   "metadata": {},
   "outputs": [],
   "source": [
    "items"
   ]
  },
  {
   "cell_type": "code",
   "execution_count": null,
   "id": "704952f9",
   "metadata": {},
   "outputs": [],
   "source": [
    "#img_svc_url = 'https://server6.tplgis.org/arcgis6/rest/services/heat_severity_2019/ImageServer'"
   ]
  },
  {
   "cell_type": "code",
   "execution_count": null,
   "id": "d6020b7d",
   "metadata": {},
   "outputs": [],
   "source": [
    "img_svc_url ='https://landsat2.arcgis.com/arcgis/rest/services/Landsat/MS/ImageServer'"
   ]
  },
  {
   "cell_type": "code",
   "execution_count": null,
   "id": "df7c2e84",
   "metadata": {},
   "outputs": [],
   "source": [
    "from arcgis.raster import ImageryLayer"
   ]
  },
  {
   "cell_type": "code",
   "execution_count": null,
   "id": "d455fe3e",
   "metadata": {},
   "outputs": [],
   "source": [
    "landsat_ms = ImageryLayer(img_svc_url)\n"
   ]
  },
  {
   "cell_type": "code",
   "execution_count": null,
   "id": "d4d10aac",
   "metadata": {},
   "outputs": [],
   "source": [
    "landsat_ms.properties.name"
   ]
  },
  {
   "cell_type": "code",
   "execution_count": null,
   "id": "3826dc48",
   "metadata": {},
   "outputs": [],
   "source": [
    "landsat_ms.properties['description']"
   ]
  },
  {
   "cell_type": "code",
   "execution_count": null,
   "id": "20e64457",
   "metadata": {},
   "outputs": [],
   "source": [
    "landsat_ms.properties.capabilities"
   ]
  },
  {
   "cell_type": "code",
   "execution_count": null,
   "id": "edaa0527",
   "metadata": {},
   "outputs": [],
   "source": [
    "landsat_ms.properties.allowedMosaicMethods"
   ]
  },
  {
   "cell_type": "code",
   "execution_count": null,
   "id": "effc416a",
   "metadata": {},
   "outputs": [],
   "source": [
    "{\n",
    "  \"rasterFunction\": \"Colormap\",\n",
    "  \"rasterFunctionArguments\": {\n",
    "    \"ColormapName\": \"Random\"\n",
    "  },\n",
    "  \"variableName\": \"Raster\"\n",
    "}"
   ]
  },
  {
   "cell_type": "code",
   "execution_count": null,
   "id": "eff852d3",
   "metadata": {},
   "outputs": [],
   "source": [
    "for fn in landsat_ms.properties.rasterFunctionInfos:\n",
    "    print(fn['name'])"
   ]
  },
  {
   "cell_type": "code",
   "execution_count": null,
   "id": "bbef7b19",
   "metadata": {
    "scrolled": false
   },
   "outputs": [],
   "source": [
    "map = gis.map(\"Chicago,Illinois\", zoomlevel=13)\n",
    "map"
   ]
  },
  {
   "cell_type": "code",
   "execution_count": null,
   "id": "04878f11",
   "metadata": {},
   "outputs": [],
   "source": [
    "map.add_layer(landsat_ms, {'renderer':'ClassedSizeRenderer','opacity':0.75})\n",
    "\n"
   ]
  },
  {
   "cell_type": "code",
   "execution_count": null,
   "id": "2ce3f634",
   "metadata": {},
   "outputs": [],
   "source": [
    "import time\n",
    "from arcgis.raster.functions import apply\n",
    "\n",
    "for fn in landsat_ms.properties.rasterFunctionInfos:\n",
    "    print(fn['name'])\n",
    "    map.remove_layers()\n",
    "    map.add_layer(apply(landsat_ms, fn['name']))\n",
    "    time.sleep(2)"
   ]
  },
  {
   "cell_type": "code",
   "execution_count": null,
   "id": "f55e26cf",
   "metadata": {},
   "outputs": [],
   "source": [
    "savi_map = gis.map(\"Chicago\", zoomlevel=6)\n",
    "savi_map"
   ]
  },
  {
   "cell_type": "code",
   "execution_count": null,
   "id": "7c60ccd3",
   "metadata": {},
   "outputs": [],
   "source": [
    "from arcgis.raster.functions import savi\n",
    "\n",
    "savi_map.add_layer(savi(landsat_ms, band_indexes=\"5 4 0.3\"))"
   ]
  },
  {
   "cell_type": "code",
   "execution_count": null,
   "id": "9a1d579e",
   "metadata": {},
   "outputs": [],
   "source": [
    "from arcgis.raster.functions import *\n",
    "\n",
    "land_water = stretch(extract_band(landsat_ms, [4, 5, 3]),\n",
    "                     stretch_type='PercentClip',\n",
    "                     min_percent=2, \n",
    "                     max_percent=2,\n",
    "                     dra=True, \n",
    "                     gamma=[1, 1, 1])"
   ]
  },
  {
   "cell_type": "code",
   "execution_count": null,
   "id": "39048b72",
   "metadata": {},
   "outputs": [],
   "source": [
    "map2 = gis.map(\"Chicago\", zoomlevel=13)\n",
    "map2"
   ]
  },
  {
   "cell_type": "code",
   "execution_count": null,
   "id": "850072d5",
   "metadata": {},
   "outputs": [],
   "source": [
    "#map.add_layer(landsat_urbanheat)"
   ]
  },
  {
   "cell_type": "code",
   "execution_count": null,
   "id": "35a01eec",
   "metadata": {},
   "outputs": [],
   "source": [
    "map2.add_layer(land_water)\n"
   ]
  },
  {
   "cell_type": "code",
   "execution_count": null,
   "id": "47a8bfc9",
   "metadata": {},
   "outputs": [],
   "source": [
    "\n",
    "for fn in landsat_urbanheat.properties.rasterFunctionInfos:\n",
    "    print(fn['name'])"
   ]
  },
  {
   "cell_type": "code",
   "execution_count": null,
   "id": "cdcae5ec",
   "metadata": {},
   "outputs": [],
   "source": [
    "yellow2red?"
   ]
  },
  {
   "cell_type": "code",
   "execution_count": null,
   "id": "ab9ca1b6",
   "metadata": {},
   "outputs": [],
   "source": [
    "from arcgis.raster.functions import *\n",
    "\n",
    "land_water = stretch(extract_band(landsat_urbanheat, [4, 5, 3]),\n",
    "                     stretch_type='PercentClip',\n",
    "                     min_percent=2, \n",
    "                     max_percent=2,\n",
    "                     dra=True, \n",
    "                     gamma=[1, 1, 1])"
   ]
  },
  {
   "cell_type": "code",
   "execution_count": null,
   "id": "0fe2564c",
   "metadata": {},
   "outputs": [],
   "source": [
    "map2 = gis.map(\"Chicago\", zoomlevel=13)\n",
    "map2"
   ]
  },
  {
   "cell_type": "code",
   "execution_count": null,
   "id": "5c7c9d40",
   "metadata": {},
   "outputs": [],
   "source": [
    "\n",
    "map2.add_layer(land_water)"
   ]
  },
  {
   "cell_type": "code",
   "execution_count": null,
   "id": "50ef570c",
   "metadata": {},
   "outputs": [],
   "source": [
    "# Establish a connection to your GIS.\n",
    "from arcgis.gis import GIS\n",
    "from IPython.display import display\n",
    "gis = GIS() # anonymous connection to www.arcgis.com"
   ]
  },
  {
   "cell_type": "code",
   "execution_count": null,
   "id": "c55ecdfe",
   "metadata": {},
   "outputs": [],
   "source": [
    "from arcgis.features import FeatureLayerCollection"
   ]
  },
  {
   "cell_type": "code",
   "execution_count": null,
   "id": "13a70f54",
   "metadata": {},
   "outputs": [],
   "source": [
    "# Search for 'USA major cities' feature layer collection\n",
    "search_results = gis.content.search('title: USA Major Cities',\n",
    "                                    'Feature Layer')\n",
    "\n",
    "# Access the first Item that's returned\n",
    "major_cities_item = search_results[0]\n",
    "\n",
    "major_cities_item"
   ]
  },
  {
   "cell_type": "code",
   "execution_count": null,
   "id": "d44cec9a",
   "metadata": {},
   "outputs": [],
   "source": [
    "# connect to GIS\n",
    "from arcgis.gis import GIS\n",
    "gis = GIS(\"portal url\", \"username\", \"password\")\n",
    "ports_item = gis.content.get(\"b0cb0c9f63e74e8480af0286eb9ac01f\")\n",
    "ports_item"
   ]
  },
  {
   "cell_type": "code",
   "execution_count": null,
   "id": "8bd15676",
   "metadata": {},
   "outputs": [],
   "source": [
    "major_cities_layers = major_cities_item.layers\n",
    "major_cities_layers"
   ]
  },
  {
   "cell_type": "code",
   "execution_count": null,
   "id": "08de52ff",
   "metadata": {},
   "outputs": [],
   "source": [
    "feature_layer = major_cities_layers[0]\n",
    "feature_layer"
   ]
  },
  {
   "cell_type": "code",
   "execution_count": null,
   "id": "251bc0a5",
   "metadata": {},
   "outputs": [],
   "source": [
    "feature_layer.properties.extent"
   ]
  },
  {
   "cell_type": "code",
   "execution_count": null,
   "id": "dfb50949",
   "metadata": {},
   "outputs": [],
   "source": [
    "feature_layer.properties.capabilities"
   ]
  },
  {
   "cell_type": "code",
   "execution_count": null,
   "id": "799f662d",
   "metadata": {},
   "outputs": [],
   "source": [
    "feature_layer.properties.drawingInfo.renderer.type"
   ]
  },
  {
   "cell_type": "code",
   "execution_count": null,
   "id": "daec5b71",
   "metadata": {},
   "outputs": [],
   "source": [
    "for f in feature_layer.properties.fields:\n",
    "    print(f['name'])"
   ]
  },
  {
   "cell_type": "code",
   "execution_count": null,
   "id": "e2fd8291",
   "metadata": {},
   "outputs": [],
   "source": [
    "for f in feature_layer.properties.fields:\n",
    "    print(f['CLASS'])"
   ]
  },
  {
   "cell_type": "code",
   "execution_count": null,
   "id": "f6c2524a",
   "metadata": {},
   "outputs": [],
   "source": []
  },
  {
   "cell_type": "code",
   "execution_count": null,
   "id": "f53e1126",
   "metadata": {},
   "outputs": [],
   "source": []
  },
  {
   "cell_type": "code",
   "execution_count": null,
   "id": "9723eeb9",
   "metadata": {},
   "outputs": [],
   "source": []
  },
  {
   "cell_type": "code",
   "execution_count": null,
   "id": "b840b177",
   "metadata": {},
   "outputs": [],
   "source": []
  },
  {
   "cell_type": "code",
   "execution_count": null,
   "id": "e13c1830",
   "metadata": {},
   "outputs": [],
   "source": [
    "# Create a map widget\n",
    "map = gis.map('los angeles') # Passing a place name to the constructor\n",
    "                        # will initialize the extent of the map.\n",
    "map"
   ]
  },
  {
   "cell_type": "code",
   "execution_count": null,
   "id": "ebb631c4",
   "metadata": {
    "scrolled": true
   },
   "outputs": [],
   "source": [
    "map = gis.map(\"los angeles\")\n",
    "map.basemap = \"satellite\"\n",
    "map.zoom = 10\n",
    "map"
   ]
  },
  {
   "cell_type": "code",
   "execution_count": null,
   "id": "5b1de393",
   "metadata": {},
   "outputs": [],
   "source": [
    "landsat_item = gis.content.search(\"Landsat Multispectral tags:'Landsat on AWS','landsat 9', 'Multispectral', 'Multitemporal', 'imagery', 'temporal', 'MS'\", 'Imagery Layer', outside_org=True)[0]\n",
    "print(landsat_item)"
   ]
  },
  {
   "cell_type": "code",
   "execution_count": null,
   "id": "6505ee89",
   "metadata": {},
   "outputs": [],
   "source": [
    "map.add_layer(landsat_item)\n",
    "\n"
   ]
  },
  {
   "cell_type": "code",
   "execution_count": null,
   "id": "24888e40",
   "metadata": {},
   "outputs": [],
   "source": [
    "map.time_slider"
   ]
  },
  {
   "cell_type": "code",
   "execution_count": null,
   "id": "8ffa45d4",
   "metadata": {},
   "outputs": [],
   "source": [
    "from datetime import datetime\n",
    "map.time_slider = True\n",
    "map.set_time_extent(start_time=datetime(2021, 12, 12), end_time=datetime(2022, 4, 12), interval=10, unit='days')"
   ]
  },
  {
   "cell_type": "code",
   "execution_count": null,
   "id": "277158e0",
   "metadata": {},
   "outputs": [],
   "source": [
    "from arcgis.geometry import Point\n",
    "\n",
    "pt = Point({\"x\" : 34.092809, \"y\" : -118.328661, \n",
    "            \"spatialReference\" : {\"wkid\" : 3309}})"
   ]
  },
  {
   "cell_type": "code",
   "execution_count": null,
   "id": "0ab84315",
   "metadata": {},
   "outputs": [],
   "source": [
    "map.draw(pt)"
   ]
  },
  {
   "cell_type": "code",
   "execution_count": null,
   "id": "42e8d805",
   "metadata": {},
   "outputs": [],
   "source": [
    "map.draw('polyline')\n",
    "\n"
   ]
  },
  {
   "cell_type": "code",
   "execution_count": null,
   "id": "40e7eb3a",
   "metadata": {},
   "outputs": [],
   "source": [
    "map.draw('polygon')"
   ]
  },
  {
   "cell_type": "code",
   "execution_count": null,
   "id": "43e1ca29",
   "metadata": {
    "extensions": {
     "jupyter_dashboards": {
      "version": 1,
      "views": {
       "grid_default": {},
       "report_default": {
        "hidden": true
       }
      }
     }
    }
   },
   "outputs": [],
   "source": [
    "from arcgis.gis import GIS\n"
   ]
  },
  {
   "cell_type": "code",
   "execution_count": null,
   "id": "eaf47b15",
   "metadata": {
    "extensions": {
     "jupyter_dashboards": {
      "version": 1,
      "views": {
       "grid_default": {},
       "report_default": {
        "hidden": true
       }
      }
     }
    }
   },
   "outputs": [],
   "source": [
    "gis = GIS()"
   ]
  },
  {
   "cell_type": "code",
   "execution_count": null,
   "id": "2d6b30a2",
   "metadata": {
    "extensions": {
     "jupyter_dashboards": {
      "version": 1,
      "views": {
       "grid_default": {},
       "report_default": {}
      }
     }
    },
    "scrolled": true
   },
   "outputs": [],
   "source": [
    "map1 =gis.map(\"Chicago,Illinois\")\n",
    "map1"
   ]
  },
  {
   "cell_type": "code",
   "execution_count": null,
   "id": "b33d485a",
   "metadata": {
    "extensions": {
     "jupyter_dashboards": {
      "version": 1,
      "views": {
       "grid_default": {},
       "report_default": {}
      }
     }
    }
   },
   "outputs": [],
   "source": [
    "#gis = GIS(username ='datalchemy', password='P@ngs4;caper')\n",
    "\n"
   ]
  },
  {
   "cell_type": "code",
   "execution_count": null,
   "id": "0430e663",
   "metadata": {
    "extensions": {
     "jupyter_dashboards": {
      "version": 1,
      "views": {
       "grid_default": {},
       "report_default": {}
      }
     }
    },
    "scrolled": true
   },
   "outputs": [],
   "source": [
    "map1 =gis.map(\"Chicago,Illinois\")\n",
    "map1"
   ]
  },
  {
   "cell_type": "code",
   "execution_count": null,
   "id": "01ab5fa4",
   "metadata": {
    "extensions": {
     "jupyter_dashboards": {
      "version": 1,
      "views": {
       "grid_default": {},
       "report_default": {}
      }
     }
    },
    "scrolled": false
   },
   "outputs": [],
   "source": [
    "from IPython.display import display\n",
    "\n",
    "items = gis.content.search('Chicago bike trails', item_type='feature layer')\n",
    "for item in items:\n",
    "    display(item)"
   ]
  },
  {
   "cell_type": "code",
   "execution_count": null,
   "id": "f2b15330",
   "metadata": {
    "extensions": {
     "jupyter_dashboards": {
      "version": 1,
      "views": {
       "grid_default": {},
       "report_default": {}
      }
     }
    }
   },
   "outputs": [],
   "source": [
    "items"
   ]
  },
  {
   "cell_type": "markdown",
   "id": "220d7a41",
   "metadata": {
    "extensions": {
     "jupyter_dashboards": {
      "version": 1,
      "views": {
       "grid_default": {},
       "report_default": {}
      }
     }
    }
   },
   "source": [
    "Chicago Metropolitan Agency for Planning"
   ]
  },
  {
   "cell_type": "code",
   "execution_count": null,
   "id": "57aeedde",
   "metadata": {
    "extensions": {
     "jupyter_dashboards": {
      "version": 1,
      "views": {
       "grid_default": {},
       "report_default": {}
      }
     }
    }
   },
   "outputs": [],
   "source": [
    "# filter out item with title 'Chicago Parks' to add\n",
    "item_to_add = [temp_item for temp_item in items if 'CMAP' in temp_item.title]\n",
    "item_to_add"
   ]
  },
  {
   "cell_type": "code",
   "execution_count": null,
   "id": "d0314a82",
   "metadata": {
    "extensions": {
     "jupyter_dashboards": {
      "version": 1,
      "views": {
       "grid_default": {},
       "report_default": {}
      }
     }
    }
   },
   "outputs": [],
   "source": [
    "gis = GIS(api_key=\"AAPKcde2b86ccc59469f8f9e7af92e131b78CWu88qr-eATyeK9etDl8oO12Jo6io4BMSRo14owJ2P9RAm8d5JEEsA-nOgaAYsFI\",\n",
    "              referer=\"https\")"
   ]
  },
  {
   "cell_type": "code",
   "execution_count": null,
   "id": "5dc8d9dc",
   "metadata": {
    "extensions": {
     "jupyter_dashboards": {
      "version": 1,
      "views": {
       "grid_default": {},
       "report_default": {}
      }
     }
    }
   },
   "outputs": [],
   "source": [
    "public_3d_city_scenes = gis.content.search(query=\"3d cities\", item_type = \"web scene\",\n",
    "                                           sort_field=\"numViews\" ,sort_order=\"asc\",\n",
    "                                           max_items = 15, outside_org=True)\n",
    "for item in public_3d_city_scenes:\n",
    "    display(item)"
   ]
  },
  {
   "cell_type": "code",
   "execution_count": null,
   "id": "4ccceca6",
   "metadata": {
    "extensions": {
     "jupyter_dashboards": {
      "version": 1,
      "views": {
       "grid_default": {},
       "report_default": {}
      }
     }
    }
   },
   "outputs": [],
   "source": [
    "gis = GIS.users"
   ]
  },
  {
   "cell_type": "code",
   "execution_count": null,
   "id": "020975ac",
   "metadata": {
    "extensions": {
     "jupyter_dashboards": {
      "version": 1,
      "views": {
       "grid_default": {},
       "report_default": {}
      }
     }
    }
   },
   "outputs": [],
   "source": [
    "gis"
   ]
  },
  {
   "cell_type": "code",
   "execution_count": null,
   "id": "3d723bf8",
   "metadata": {
    "extensions": {
     "jupyter_dashboards": {
      "version": 1,
      "views": {
       "grid_default": {},
       "report_default": {}
      }
     }
    },
    "scrolled": true
   },
   "outputs": [],
   "source": [
    "gis = GIS.users\n",
    "gis"
   ]
  },
  {
   "cell_type": "code",
   "execution_count": null,
   "id": "611157ef",
   "metadata": {
    "extensions": {
     "jupyter_dashboards": {
      "version": 1,
      "views": {
       "grid_default": {},
       "report_default": {
        "hidden": true
       }
      }
     }
    }
   },
   "outputs": [],
   "source": [
    "from arcgis.gis import GIS\n",
    "from arcgis.geocoding import geocode\n",
    "from arcgis.raster.functions import *\n",
    "from arcgis import geometry\n",
    "import ipywidgets as widgets\n",
    "    \n",
    "import pandas as pd\n",
    "\n",
    "# connect as an anonymous user\n",
    "gis = GIS()\n",
    "\n",
    "# search for the landsat multispectral imagery layer\n",
    "landsat_item = gis.content.search(\"Landsat Multispectral tags:'Landsat on AWS','landsat 9', 'Multispectral', 'Multitemporal', 'imagery', 'temporal', 'MS'\", 'Imagery Layer', outside_org=True)[0]\n",
    "landsat = landsat_item.layers[0]\n",
    "df = None\n"
   ]
  },
  {
   "cell_type": "markdown",
   "id": "f3ac8f0f",
   "metadata": {},
   "source": [
    "Setting an area of interest"
   ]
  },
  {
   "cell_type": "code",
   "execution_count": null,
   "id": "a98b8af9",
   "metadata": {},
   "outputs": [],
   "source": [
    "from arcgis.raster.functions import apply"
   ]
  },
  {
   "cell_type": "code",
   "execution_count": null,
   "id": "04d5163d",
   "metadata": {},
   "outputs": [],
   "source": [
    "color_infrared = apply(landsat, 'Color Infrared with DRA')"
   ]
  },
  {
   "cell_type": "code",
   "execution_count": null,
   "id": "c8950654",
   "metadata": {},
   "outputs": [],
   "source": [
    "m3 = gis.map('los angeles')\n",
    "m3.add_layer(color_infrared)\n",
    "m3"
   ]
  },
  {
   "cell_type": "code",
   "execution_count": null,
   "id": "a21c5c61",
   "metadata": {},
   "outputs": [],
   "source": [
    "color_infrared"
   ]
  },
  {
   "cell_type": "code",
   "execution_count": null,
   "id": "44230cd1",
   "metadata": {},
   "outputs": [],
   "source": [
    "from arcgis.geocoding import geocode\n",
    "area = geocode('los angeles', out_sr=landsat.properties.spatialReference)[0]"
   ]
  },
  {
   "cell_type": "code",
   "execution_count": null,
   "id": "6b75fac1",
   "metadata": {},
   "outputs": [],
   "source": [
    "color_infrared.extent = area['extent']"
   ]
  },
  {
   "cell_type": "code",
   "execution_count": null,
   "id": "c5c573c0",
   "metadata": {},
   "outputs": [],
   "source": []
  },
  {
   "cell_type": "code",
   "execution_count": null,
   "id": "7df77601",
   "metadata": {},
   "outputs": [],
   "source": []
  },
  {
   "cell_type": "code",
   "execution_count": null,
   "id": "7f461662",
   "metadata": {},
   "outputs": [],
   "source": []
  },
  {
   "cell_type": "code",
   "execution_count": null,
   "id": "bd1177ee",
   "metadata": {},
   "outputs": [],
   "source": []
  },
  {
   "cell_type": "code",
   "execution_count": null,
   "id": "8011242f",
   "metadata": {},
   "outputs": [],
   "source": []
  },
  {
   "cell_type": "code",
   "execution_count": null,
   "id": "90655c86",
   "metadata": {},
   "outputs": [],
   "source": []
  },
  {
   "cell_type": "markdown",
   "id": "1a650f63",
   "metadata": {},
   "source": [
    "Exporting Images from Imagery Layer"
   ]
  },
  {
   "cell_type": "code",
   "execution_count": null,
   "id": "337796fa",
   "metadata": {},
   "outputs": [],
   "source": [
    "landsat.extent = area['extent']\n",
    "landsat"
   ]
  },
  {
   "cell_type": "code",
   "execution_count": null,
   "id": "690a9617",
   "metadata": {},
   "outputs": [],
   "source": [
    "from IPython.display import Image"
   ]
  },
  {
   "cell_type": "code",
   "execution_count": null,
   "id": "d062e4ea",
   "metadata": {},
   "outputs": [],
   "source": [
    "img = landsat.export_image(bbox=area['extent'], size=[1200,450], f='image')"
   ]
  },
  {
   "cell_type": "code",
   "execution_count": null,
   "id": "cd8bba69",
   "metadata": {},
   "outputs": [],
   "source": [
    "Image(img)"
   ]
  },
  {
   "cell_type": "code",
   "execution_count": null,
   "id": "e01626ba",
   "metadata": {},
   "outputs": [],
   "source": [
    "savedimg = landsat.export_image(bbox=area['extent'], size=[1200,450], f='image', save_folder='.', save_file='img.jpg')"
   ]
  },
  {
   "cell_type": "code",
   "execution_count": null,
   "id": "0e6a347c",
   "metadata": {},
   "outputs": [],
   "source": [
    "savedimg\n"
   ]
  },
  {
   "cell_type": "code",
   "execution_count": null,
   "id": "29a52b44",
   "metadata": {},
   "outputs": [],
   "source": [
    "from IPython.display import Image"
   ]
  },
  {
   "cell_type": "code",
   "execution_count": null,
   "id": "092c2c93",
   "metadata": {},
   "outputs": [],
   "source": [
    "Image(filename=savedimg, width=1200, height=450)"
   ]
  },
  {
   "cell_type": "code",
   "execution_count": null,
   "id": "0a8a423a",
   "metadata": {},
   "outputs": [],
   "source": [
    "from arcgis.raster.functions import stretch, extract_band"
   ]
  },
  {
   "cell_type": "code",
   "execution_count": null,
   "id": "49101622",
   "metadata": {},
   "outputs": [],
   "source": [
    "naturalcolor = stretch(extract_band(landsat, [3,2,1]), \n",
    "                    stretch_type='percentclip', min_percent=0.1, max_percent=0.1, gamma=[1, 1, 1], dra=True)"
   ]
  },
  {
   "cell_type": "code",
   "execution_count": null,
   "id": "0d7cf552",
   "metadata": {},
   "outputs": [],
   "source": [
    "naturalcolor"
   ]
  },
  {
   "cell_type": "code",
   "execution_count": null,
   "id": "04551e61",
   "metadata": {},
   "outputs": [],
   "source": []
  },
  {
   "cell_type": "code",
   "execution_count": null,
   "id": "de6785c5",
   "metadata": {},
   "outputs": [],
   "source": []
  },
  {
   "cell_type": "code",
   "execution_count": null,
   "id": "4c293174",
   "metadata": {},
   "outputs": [],
   "source": []
  },
  {
   "cell_type": "code",
   "execution_count": null,
   "id": "cd71f82b",
   "metadata": {
    "extensions": {
     "jupyter_dashboards": {
      "version": 1,
      "views": {
       "grid_default": {},
       "report_default": {}
      }
     }
    }
   },
   "outputs": [],
   "source": [
    "from arcgis.features import*"
   ]
  },
  {
   "cell_type": "code",
   "execution_count": null,
   "id": "d983aded",
   "metadata": {
    "extensions": {
     "jupyter_dashboards": {
      "version": 1,
      "views": {
       "grid_default": {},
       "report_default": {
        "hidden": false
       }
      }
     }
    }
   },
   "outputs": [],
   "source": [
    "landsat_item"
   ]
  },
  {
   "cell_type": "code",
   "execution_count": null,
   "id": "2dac2ee6",
   "metadata": {},
   "outputs": [],
   "source": [
    "from arcgis.geometry import Geometry, buffer"
   ]
  },
  {
   "cell_type": "code",
   "execution_count": null,
   "id": "d71c8b7e",
   "metadata": {},
   "outputs": [],
   "source": []
  },
  {
   "cell_type": "code",
   "execution_count": null,
   "id": "515f97eb",
   "metadata": {},
   "outputs": [],
   "source": []
  },
  {
   "cell_type": "code",
   "execution_count": null,
   "id": "845b2a59",
   "metadata": {},
   "outputs": [],
   "source": []
  },
  {
   "cell_type": "markdown",
   "id": "255cc903",
   "metadata": {},
   "source": [
    "code snippets with less cloud cover"
   ]
  },
  {
   "cell_type": "code",
   "execution_count": null,
   "id": "0fe2b6ae",
   "metadata": {},
   "outputs": [],
   "source": [
    "selected = landsat.filter_by(where=\"(Category = 1) AND (CloudCover <=0.10) AND (WRS_Row = 36)\", \n",
    "                   geometry=arcgis.geometry.filters.intersects(area['extent']))"
   ]
  },
  {
   "cell_type": "code",
   "execution_count": null,
   "id": "aedd28f2",
   "metadata": {},
   "outputs": [],
   "source": [
    "fs = selected.query(out_fields=\"AcquisitionDate, GroupName, Best, CloudCover, WRS_Row, Month, Name\", \n",
    "              return_geometry=True,\n",
    "              return_distinct_values=False,\n",
    "              order_by_fields=\"AcquisitionDate\")"
   ]
  },
  {
   "cell_type": "code",
   "execution_count": null,
   "id": "c5372e26",
   "metadata": {
    "scrolled": true
   },
   "outputs": [],
   "source": [
    "df = fs.sdf\n",
    "df.head()"
   ]
  },
  {
   "cell_type": "code",
   "execution_count": null,
   "id": "8e06a929",
   "metadata": {},
   "outputs": [],
   "source": [
    "df = fs.sdf\n",
    "df.tail()"
   ]
  },
  {
   "cell_type": "code",
   "execution_count": null,
   "id": "b569bbc6",
   "metadata": {},
   "outputs": [],
   "source": [
    "df.shape"
   ]
  },
  {
   "cell_type": "code",
   "execution_count": null,
   "id": "f7086379",
   "metadata": {},
   "outputs": [],
   "source": [
    "df['Time'] = pd.to_datetime(df['AcquisitionDate'], unit='ms')\n",
    "df['Time'].head(10)"
   ]
  },
  {
   "cell_type": "code",
   "execution_count": null,
   "id": "ebe8a22e",
   "metadata": {},
   "outputs": [],
   "source": [
    "m3 = gis.map('los angeles', 7)\n",
    "display(m3)\n",
    "m3.add_layer(selected.last())"
   ]
  },
  {
   "cell_type": "code",
   "execution_count": null,
   "id": "a534558d",
   "metadata": {
    "scrolled": true
   },
   "outputs": [],
   "source": [
    "m3 = gis.map('los angeles', 7)\n",
    "display(m3)\n",
    "m3.add_layer(selected.first())"
   ]
  },
  {
   "cell_type": "code",
   "execution_count": null,
   "id": "68a500bd",
   "metadata": {},
   "outputs": [],
   "source": [
    "old = landsat.filter_by('OBJECTID=3106827')"
   ]
  },
  {
   "cell_type": "code",
   "execution_count": null,
   "id": "d33cd21d",
   "metadata": {},
   "outputs": [],
   "source": [
    "new = landsat.filter_by('OBJECTID=3558253')"
   ]
  },
  {
   "cell_type": "code",
   "execution_count": null,
   "id": "ccc097aa",
   "metadata": {},
   "outputs": [],
   "source": [
    "from arcgis.raster.functions import *"
   ]
  },
  {
   "cell_type": "code",
   "execution_count": null,
   "id": "f149fd3e",
   "metadata": {},
   "outputs": [],
   "source": [
    "diff = stretch(composite_band([ndvi(old, '5 4'),\n",
    "                               ndvi(new, '5 4'),\n",
    "                               ndvi(old, '5 4')]), \n",
    "                               stretch_type='stddev',  num_stddev=2.5, min=0, max=255, dra=True, astype='u8')\n",
    "diff"
   ]
  },
  {
   "cell_type": "code",
   "execution_count": null,
   "id": "790c4544",
   "metadata": {},
   "outputs": [],
   "source": [
    "ndvi_diff = ndvi(new, '5 4') - ndvi(old, '5 4')"
   ]
  },
  {
   "cell_type": "code",
   "execution_count": null,
   "id": "2b967efb",
   "metadata": {},
   "outputs": [],
   "source": [
    "ndvi_diff"
   ]
  },
  {
   "cell_type": "code",
   "execution_count": null,
   "id": "55003a7e",
   "metadata": {},
   "outputs": [],
   "source": [
    "threshold_val = 0.1"
   ]
  },
  {
   "cell_type": "code",
   "execution_count": null,
   "id": "b553c18e",
   "metadata": {},
   "outputs": [],
   "source": [
    "masked = colormap(remap(ndvi_diff, \n",
    "                        input_ranges=[threshold_val, 1], \n",
    "                        output_values=[1], \n",
    "                        no_data_ranges=[-1, threshold_val], astype='u8'), \n",
    "                  colormap=[[1, 124, 252, 0]], astype='u8')\n",
    "\n",
    "Image(masked.export_image(bbox=area['extent'], size=[1200,450], f='image'))"
   ]
  },
  {
   "cell_type": "code",
   "execution_count": null,
   "id": "b2253681",
   "metadata": {},
   "outputs": [],
   "source": [
    "m = gis.map('los angeles')\n",
    "m"
   ]
  },
  {
   "cell_type": "code",
   "execution_count": null,
   "id": "8b129a21",
   "metadata": {},
   "outputs": [],
   "source": [
    "\n",
    "m.add_layer(diff)"
   ]
  },
  {
   "cell_type": "code",
   "execution_count": null,
   "id": "13de7589",
   "metadata": {},
   "outputs": [],
   "source": [
    "\n",
    "m.add_layer(masked)\n"
   ]
  },
  {
   "cell_type": "markdown",
   "id": "2c15042f",
   "metadata": {},
   "source": [
    "BAck to old section"
   ]
  },
  {
   "cell_type": "code",
   "execution_count": null,
   "id": "01706141",
   "metadata": {
    "extensions": {
     "jupyter_dashboards": {
      "version": 1,
      "views": {
       "grid_default": {},
       "report_default": {}
      }
     }
    },
    "scrolled": false
   },
   "outputs": [],
   "source": [
    "from IPython.display import HTML\n",
    "HTML(landsat_item.description)"
   ]
  },
  {
   "cell_type": "code",
   "execution_count": null,
   "id": "5a5883ae",
   "metadata": {
    "extensions": {
     "jupyter_dashboards": {
      "version": 1,
      "views": {
       "grid_default": {},
       "report_default": {}
      }
     }
    }
   },
   "outputs": [],
   "source": [
    "landsat = landsat_item.layers[0]\n",
    "landsat"
   ]
  },
  {
   "cell_type": "code",
   "execution_count": null,
   "id": "072c4079",
   "metadata": {
    "extensions": {
     "jupyter_dashboards": {
      "version": 1,
      "views": {
       "grid_default": {},
       "report_default": {}
      }
     }
    }
   },
   "outputs": [],
   "source": [
    "import pandas as pd"
   ]
  },
  {
   "cell_type": "code",
   "execution_count": null,
   "id": "70fb3a57",
   "metadata": {
    "extensions": {
     "jupyter_dashboards": {
      "version": 1,
      "views": {
       "grid_default": {},
       "report_default": {}
      }
     }
    }
   },
   "outputs": [],
   "source": [
    "pd.DataFrame(landsat.key_properties()['BandProperties'])"
   ]
  },
  {
   "cell_type": "code",
   "execution_count": null,
   "id": "035eed27",
   "metadata": {
    "extensions": {
     "jupyter_dashboards": {
      "version": 1,
      "views": {
       "grid_default": {},
       "report_default": {}
      }
     }
    }
   },
   "outputs": [],
   "source": [
    "m = gis.map('los angeles')\n",
    "m"
   ]
  },
  {
   "cell_type": "code",
   "execution_count": null,
   "id": "786dda5a",
   "metadata": {
    "extensions": {
     "jupyter_dashboards": {
      "version": 1,
      "views": {
       "grid_default": {},
       "report_default": {}
      }
     }
    }
   },
   "outputs": [],
   "source": [
    "m.add_layer(landsat)"
   ]
  },
  {
   "cell_type": "code",
   "execution_count": null,
   "id": "53ce440c",
   "metadata": {
    "extensions": {
     "jupyter_dashboards": {
      "version": 1,
      "views": {
       "grid_default": {},
       "report_default": {}
      }
     }
    }
   },
   "outputs": [],
   "source": [
    "for rasterfunc in landsat.properties.rasterFunctionInfos:\n",
    "    print(rasterfunc.name)"
   ]
  },
  {
   "cell_type": "code",
   "execution_count": null,
   "id": "8ae577bb",
   "metadata": {
    "extensions": {
     "jupyter_dashboards": {
      "version": 1,
      "views": {
       "grid_default": {},
       "report_default": {}
      }
     }
    }
   },
   "outputs": [],
   "source": [
    "from arcgis.raster.functions import apply"
   ]
  },
  {
   "cell_type": "code",
   "execution_count": null,
   "id": "51bae9ee",
   "metadata": {
    "extensions": {
     "jupyter_dashboards": {
      "version": 1,
      "views": {
       "grid_default": {},
       "report_default": {}
      }
     }
    }
   },
   "outputs": [],
   "source": [
    "color_infrared = apply(landsat, 'Color Infrared with DRA')\n"
   ]
  },
  {
   "cell_type": "code",
   "execution_count": null,
   "id": "d205d91a",
   "metadata": {
    "extensions": {
     "jupyter_dashboards": {
      "version": 1,
      "views": {
       "grid_default": {},
       "report_default": {}
      }
     }
    }
   },
   "outputs": [],
   "source": [
    "\n",
    "m = gis.map('los angeles')\n",
    "m.add_layer(color_infrared)\n",
    "m"
   ]
  },
  {
   "cell_type": "code",
   "execution_count": null,
   "id": "99ba8335",
   "metadata": {
    "extensions": {
     "jupyter_dashboards": {
      "version": 1,
      "views": {
       "grid_default": {},
       "report_default": {}
      }
     }
    }
   },
   "outputs": [],
   "source": [
    "color_infrared"
   ]
  },
  {
   "cell_type": "code",
   "execution_count": null,
   "id": "b158572a",
   "metadata": {
    "extensions": {
     "jupyter_dashboards": {
      "version": 1,
      "views": {
       "grid_default": {},
       "report_default": {}
      }
     }
    }
   },
   "outputs": [],
   "source": [
    "from arcgis.geocoding import geocode\n",
    "area = geocode('los angeles', out_sr=landsat.properties.spatialReference)[0]"
   ]
  },
  {
   "cell_type": "code",
   "execution_count": null,
   "id": "6b0ef59c",
   "metadata": {
    "extensions": {
     "jupyter_dashboards": {
      "version": 1,
      "views": {
       "grid_default": {},
       "report_default": {}
      }
     }
    }
   },
   "outputs": [],
   "source": [
    "color_infrared.extent = area['extent']"
   ]
  },
  {
   "cell_type": "code",
   "execution_count": null,
   "id": "1b198b22",
   "metadata": {
    "extensions": {
     "jupyter_dashboards": {
      "version": 1,
      "views": {
       "grid_default": {},
       "report_default": {}
      }
     }
    }
   },
   "outputs": [],
   "source": [
    "color_infrared"
   ]
  },
  {
   "cell_type": "code",
   "execution_count": null,
   "id": "b2b28e26",
   "metadata": {
    "extensions": {
     "jupyter_dashboards": {
      "version": 1,
      "views": {
       "grid_default": {},
       "report_default": {}
      }
     }
    }
   },
   "outputs": [],
   "source": [
    "landsat.extent = area['extent']\n",
    "landsat"
   ]
  },
  {
   "cell_type": "markdown",
   "id": "a531c8e9",
   "metadata": {
    "extensions": {
     "jupyter_dashboards": {
      "version": 1,
      "views": {
       "grid_default": {},
       "report_default": {}
      }
     }
    }
   },
   "source": [
    "Exporting Images from Imagery Layer"
   ]
  },
  {
   "cell_type": "code",
   "execution_count": null,
   "id": "5c835bd7",
   "metadata": {
    "extensions": {
     "jupyter_dashboards": {
      "version": 1,
      "views": {
       "grid_default": {},
       "report_default": {}
      }
     }
    }
   },
   "outputs": [],
   "source": [
    "from IPython.display import Image"
   ]
  },
  {
   "cell_type": "code",
   "execution_count": null,
   "id": "defebeaa",
   "metadata": {
    "extensions": {
     "jupyter_dashboards": {
      "version": 1,
      "views": {
       "grid_default": {},
       "report_default": {}
      }
     }
    }
   },
   "outputs": [],
   "source": [
    "\n",
    "img = landsat.export_image(bbox=area['extent'], size=[1200,450], f='image')"
   ]
  },
  {
   "cell_type": "code",
   "execution_count": null,
   "id": "b9860aca",
   "metadata": {
    "extensions": {
     "jupyter_dashboards": {
      "version": 1,
      "views": {
       "grid_default": {},
       "report_default": {}
      }
     }
    }
   },
   "outputs": [],
   "source": [
    "Image(img)"
   ]
  },
  {
   "cell_type": "code",
   "execution_count": null,
   "id": "6f2239a6",
   "metadata": {
    "extensions": {
     "jupyter_dashboards": {
      "version": 1,
      "views": {
       "grid_default": {},
       "report_default": {}
      }
     }
    }
   },
   "outputs": [],
   "source": [
    "savedimg = landsat.export_image(bbox=area['extent'], size=[1200,450], f='image', save_folder='.', save_file='img.jpg')"
   ]
  },
  {
   "cell_type": "code",
   "execution_count": null,
   "id": "d804af4c",
   "metadata": {
    "extensions": {
     "jupyter_dashboards": {
      "version": 1,
      "views": {
       "grid_default": {},
       "report_default": {}
      }
     }
    }
   },
   "outputs": [],
   "source": [
    "savedimg\n"
   ]
  },
  {
   "cell_type": "code",
   "execution_count": null,
   "id": "a86f634c",
   "metadata": {
    "extensions": {
     "jupyter_dashboards": {
      "version": 1,
      "views": {
       "grid_default": {},
       "report_default": {}
      }
     }
    }
   },
   "outputs": [],
   "source": [
    "from IPython.display import Image"
   ]
  },
  {
   "cell_type": "code",
   "execution_count": null,
   "id": "7c16ad3c",
   "metadata": {
    "extensions": {
     "jupyter_dashboards": {
      "version": 1,
      "views": {
       "grid_default": {},
       "report_default": {}
      }
     }
    }
   },
   "outputs": [],
   "source": [
    "Image(filename=savedimg, width=1200, height=450)"
   ]
  },
  {
   "cell_type": "markdown",
   "id": "63002649",
   "metadata": {
    "extensions": {
     "jupyter_dashboards": {
      "version": 1,
      "views": {
       "grid_default": {},
       "report_default": {}
      }
     }
    }
   },
   "source": [
    "Exporting images from an imagery layer to which a raster function has been applied"
   ]
  },
  {
   "cell_type": "code",
   "execution_count": null,
   "id": "b9aed694",
   "metadata": {
    "extensions": {
     "jupyter_dashboards": {
      "version": 1,
      "views": {
       "grid_default": {},
       "report_default": {}
      }
     }
    }
   },
   "outputs": [],
   "source": [
    "color_infrared = apply(landsat, 'Color Infrared with DRA')"
   ]
  },
  {
   "cell_type": "code",
   "execution_count": null,
   "id": "f91f7f63",
   "metadata": {
    "extensions": {
     "jupyter_dashboards": {
      "version": 1,
      "views": {
       "grid_default": {},
       "report_default": {}
      }
     }
    }
   },
   "outputs": [],
   "source": [
    "\n",
    "img = color_infrared.export_image(bbox=area['extent'], size=[1200, 450], f='image')"
   ]
  },
  {
   "cell_type": "code",
   "execution_count": null,
   "id": "9428da9f",
   "metadata": {
    "extensions": {
     "jupyter_dashboards": {
      "version": 1,
      "views": {
       "grid_default": {},
       "report_default": {}
      }
     }
    }
   },
   "outputs": [],
   "source": [
    "\n",
    "Image(img)"
   ]
  },
  {
   "cell_type": "markdown",
   "id": "34818894",
   "metadata": {
    "extensions": {
     "jupyter_dashboards": {
      "version": 1,
      "views": {
       "grid_default": {},
       "report_default": {}
      }
     }
    }
   },
   "source": [
    "Vegetation Index\n",
    "An index combines two or more wavelengths to indicate the relative abundance of different land cover features, like vegetation or moisture.\n",
    "\n",
    "Let's use the 'NDVI Colorized' raster function to visualize healthy, green vegetation:"
   ]
  },
  {
   "cell_type": "code",
   "execution_count": null,
   "id": "ab3b8b24",
   "metadata": {
    "extensions": {
     "jupyter_dashboards": {
      "version": 1,
      "views": {
       "grid_default": {},
       "report_default": {}
      }
     }
    }
   },
   "outputs": [],
   "source": [
    "ndvi_colorized = apply(landsat, 'NDVI Colorized')\n",
    "ndvi_colorized"
   ]
  },
  {
   "cell_type": "markdown",
   "id": "fa1d98ec",
   "metadata": {
    "extensions": {
     "jupyter_dashboards": {
      "version": 1,
      "views": {
       "grid_default": {},
       "report_default": {}
      }
     }
    }
   },
   "source": [
    "Custom Bands\n",
    "You can also create your own indexes and band combinations, as well as specify stretch and gamma values to adjust the image contrast.\n",
    "\n",
    "The code below first extracts the [3 (Red), 2 (Green), 1 (Blue)] bands using the extract_bands function and passes it's output to the stretch function to enhance the image:"
   ]
  },
  {
   "cell_type": "code",
   "execution_count": null,
   "id": "a6c995f7",
   "metadata": {
    "extensions": {
     "jupyter_dashboards": {
      "version": 1,
      "views": {
       "grid_default": {},
       "report_default": {}
      }
     }
    }
   },
   "outputs": [],
   "source": [
    "\n",
    "from arcgis.raster.functions import stretch, extract_band\n"
   ]
  },
  {
   "cell_type": "code",
   "execution_count": null,
   "id": "57329037",
   "metadata": {
    "extensions": {
     "jupyter_dashboards": {
      "version": 1,
      "views": {
       "grid_default": {},
       "report_default": {}
      }
     }
    }
   },
   "outputs": [],
   "source": [
    "naturalcolor = stretch(extract_band(landsat, [3,2,1]), \n",
    "                    stretch_type='percentclip', min_percent=0.1, max_percent=0.1, gamma=[1, 1, 1], dra=True)"
   ]
  },
  {
   "cell_type": "code",
   "execution_count": null,
   "id": "6cc5873c",
   "metadata": {
    "extensions": {
     "jupyter_dashboards": {
      "version": 1,
      "views": {
       "grid_default": {},
       "report_default": {}
      }
     }
    }
   },
   "outputs": [],
   "source": [
    "naturalcolor"
   ]
  },
  {
   "cell_type": "code",
   "execution_count": null,
   "id": "7830173a",
   "metadata": {
    "extensions": {
     "jupyter_dashboards": {
      "version": 1,
      "views": {
       "grid_default": {},
       "report_default": {}
      }
     }
    }
   },
   "outputs": [],
   "source": [
    "import arcgis\n",
    "g = arcgis.geometry.Geometry(area['extent'])"
   ]
  },
  {
   "cell_type": "code",
   "execution_count": null,
   "id": "a3694614",
   "metadata": {
    "extensions": {
     "jupyter_dashboards": {
      "version": 1,
      "views": {
       "grid_default": {},
       "report_default": {}
      }
     }
    }
   },
   "outputs": [],
   "source": [
    "samples = landsat.get_samples(g, sample_count=50,\n",
    "                                 out_fields='AcquisitionDate,OBJECTID,GroupName,Category,SunAzimuth,SunElevation,CloudCover')"
   ]
  },
  {
   "cell_type": "code",
   "execution_count": null,
   "id": "c7bc5c74",
   "metadata": {
    "extensions": {
     "jupyter_dashboards": {
      "version": 1,
      "views": {
       "grid_default": {},
       "report_default": {}
      }
     }
    }
   },
   "outputs": [],
   "source": [
    "samples[10]\n"
   ]
  },
  {
   "cell_type": "code",
   "execution_count": null,
   "id": "652e71bd",
   "metadata": {
    "extensions": {
     "jupyter_dashboards": {
      "version": 1,
      "views": {
       "grid_default": {},
       "report_default": {}
      }
     }
    }
   },
   "outputs": [],
   "source": [
    "import datetime\n",
    "value = samples[0]['attributes']['AcquisitionDate']\n",
    "datetime.datetime.fromtimestamp(value /1000).strftime(\"Acquisition Date: %d %b, %Y\")"
   ]
  },
  {
   "cell_type": "code",
   "execution_count": null,
   "id": "0ab08451",
   "metadata": {
    "extensions": {
     "jupyter_dashboards": {
      "version": 1,
      "views": {
       "grid_default": {},
       "report_default": {}
      }
     }
    }
   },
   "outputs": [],
   "source": [
    "pd.DataFrame(samples[0]['attributes'], index=[0])"
   ]
  },
  {
   "cell_type": "markdown",
   "id": "e5190376",
   "metadata": {
    "extensions": {
     "jupyter_dashboards": {
      "version": 1,
      "views": {
       "grid_default": {},
       "report_default": {}
      }
     }
    }
   },
   "source": [
    "Spectral profile from the sampled values at a location"
   ]
  },
  {
   "cell_type": "code",
   "execution_count": null,
   "id": "b0bd94be",
   "metadata": {
    "extensions": {
     "jupyter_dashboards": {
      "version": 1,
      "views": {
       "grid_default": {},
       "report_default": {}
      }
     }
    },
    "scrolled": true
   },
   "outputs": [],
   "source": [
    "m = gis.map('los angeles')\n",
    "m"
   ]
  },
  {
   "cell_type": "code",
   "execution_count": null,
   "id": "801e433b",
   "metadata": {
    "extensions": {
     "jupyter_dashboards": {
      "version": 1,
      "views": {
       "grid_default": {},
       "report_default": {}
      }
     }
    }
   },
   "outputs": [],
   "source": [
    "m.add_layer(landsat)"
   ]
  },
  {
   "cell_type": "code",
   "execution_count": null,
   "id": "8e16b199",
   "metadata": {},
   "outputs": [],
   "source": [
    "from arcgis.gis import GIS\n",
    "gis=GIS()"
   ]
  },
  {
   "cell_type": "code",
   "execution_count": null,
   "id": "4dc43dfb",
   "metadata": {},
   "outputs": [],
   "source": [
    "landsat_item = gis.content.search('Multispectral Landsat', 'Imagery Layer', outside_org=True)[0]"
   ]
  },
  {
   "cell_type": "code",
   "execution_count": null,
   "id": "99ff5dd5",
   "metadata": {},
   "outputs": [],
   "source": [
    "m = gis.map('los angeles')\n",
    "m"
   ]
  },
  {
   "cell_type": "code",
   "execution_count": null,
   "id": "652d35d3",
   "metadata": {
    "scrolled": false
   },
   "outputs": [],
   "source": [
    "landsat = landsat_item.layers[0]\n",
    "landsat"
   ]
  },
  {
   "cell_type": "code",
   "execution_count": null,
   "id": "e2832768",
   "metadata": {},
   "outputs": [],
   "source": [
    "m.add_layer(landsat)"
   ]
  },
  {
   "cell_type": "code",
   "execution_count": null,
   "id": "b11274ad",
   "metadata": {
    "extensions": {
     "jupyter_dashboards": {
      "version": 1,
      "views": {
       "grid_default": {},
       "report_default": {}
      }
     }
    }
   },
   "outputs": [],
   "source": [
    "from bokeh.models import Range1d\n",
    "from bokeh.plotting import figure, show, output_notebook\n",
    "from IPython.display import clear_output\n",
    "output_notebook()\n",
    "\n",
    "def get_samples(mw, g):\n",
    "    clear_output()\n",
    "    m.draw(g)\n",
    "    samples = landsat.get_samples(g, pixel_size=30)\n",
    "    values = samples[0]['value']\n",
    "    vals = [float(int(s)/100000) for s in values.split(' ')]\n",
    "    \n",
    "    x = ['1','2', '3','4','5','6','7','8']\n",
    "    y = vals\n",
    "    p = figure(title=\"Spectral Profile\", x_axis_label='Spectral Bands', y_axis_label='Data Values', width=600, height=300)\n",
    "    p.line(x, y, legend_label=\"Selected Point\", line_color=\"red\", line_width=2)\n",
    "    p.circle(x, y, line_color=\"red\", fill_color=\"white\", size=8)\n",
    "    p.y_range=Range1d(0, 1.0)\n",
    "\n",
    "    show(p)\n",
    "    \n",
    "print('Click anywhere on the map to plot the spectral profile for that location.')\n",
    "m.on_click(get_samples)\n"
   ]
  },
  {
   "cell_type": "code",
   "execution_count": null,
   "id": "10132cd8",
   "metadata": {
    "extensions": {
     "jupyter_dashboards": {
      "version": 1,
      "views": {
       "grid_default": {},
       "report_default": {}
      }
     }
    }
   },
   "outputs": [],
   "source": [
    "items = gis.content.search(\"title: Multispectral Landsat\", item_type=\"Imagery Layer\",  outside_org=True)\n",
    "items[0]"
   ]
  },
  {
   "cell_type": "code",
   "execution_count": null,
   "id": "51f5042b",
   "metadata": {
    "extensions": {
     "jupyter_dashboards": {
      "version": 1,
      "views": {
       "grid_default": {},
       "report_default": {}
      }
     }
    }
   },
   "outputs": [],
   "source": [
    "l9_lyr = items[0].layers[0]\n"
   ]
  },
  {
   "cell_type": "code",
   "execution_count": null,
   "id": "38aa5b61",
   "metadata": {
    "extensions": {
     "jupyter_dashboards": {
      "version": 1,
      "views": {
       "grid_default": {},
       "report_default": {}
      }
     }
    }
   },
   "outputs": [],
   "source": [
    "land_water_lr = stretch(extract_band(l9_lyr, [4, 5, 3]),\n",
    "                        stretch_type='PercentClip',\n",
    "                        min_percent=2, \n",
    "                        max_percent=2,\n",
    "                        dra=True, \n",
    "                        gamma=[1, 1, 1])"
   ]
  },
  {
   "cell_type": "code",
   "execution_count": null,
   "id": "159f9bab",
   "metadata": {
    "extensions": {
     "jupyter_dashboards": {
      "version": 1,
      "views": {
       "grid_default": {},
       "report_default": {}
      }
     }
    }
   },
   "outputs": [],
   "source": [
    "landmap = gis.map('los angeles')\n",
    "landmap"
   ]
  },
  {
   "cell_type": "code",
   "execution_count": null,
   "id": "8fa93687",
   "metadata": {},
   "outputs": [],
   "source": [
    "ndvi_colorized = apply(landsat, 'NDVI Colorized')\n",
    "ndvi_colorized"
   ]
  },
  {
   "cell_type": "code",
   "execution_count": null,
   "id": "f7f92eb7",
   "metadata": {
    "extensions": {
     "jupyter_dashboards": {
      "version": 1,
      "views": {
       "grid_default": {},
       "report_default": {}
      }
     }
    }
   },
   "outputs": [],
   "source": [
    "landmap.add_layer(land_water_lr)\n"
   ]
  },
  {
   "cell_type": "code",
   "execution_count": null,
   "id": "abd9c93e",
   "metadata": {},
   "outputs": [],
   "source": [
    "!pip install graphviz"
   ]
  },
  {
   "cell_type": "code",
   "execution_count": null,
   "id": "c88ceb03",
   "metadata": {},
   "outputs": [],
   "source": [
    "import graphviz"
   ]
  },
  {
   "cell_type": "code",
   "execution_count": null,
   "id": "7a5b7746",
   "metadata": {
    "extensions": {
     "jupyter_dashboards": {
      "version": 1,
      "views": {
       "grid_default": {},
       "report_default": {}
      }
     }
    }
   },
   "outputs": [],
   "source": [
    "land_water_lr.draw_graph()"
   ]
  },
  {
   "cell_type": "code",
   "execution_count": null,
   "id": "a85b518b",
   "metadata": {},
   "outputs": [],
   "source": [
    "from arcgis.geocoding import geocode\n",
    "\n",
    "# get spatial extent of los angeles\n",
    "area = geocode('los angeles', out_sr=l9_lyr.properties.spatialReference)[0]\n",
    "area['extent']"
   ]
  },
  {
   "cell_type": "code",
   "execution_count": null,
   "id": "b3b467a1",
   "metadata": {},
   "outputs": [],
   "source": [
    "import pandas as pd\n",
    "from datetime import datetime\n",
    "\n",
    "selected = l9_lyr.filter_by(time=[datetime(2019, 1, 1), datetime(2022, 1, 1)],\n",
    "                             geometry=arcgis.geometry.filters.intersects(area['extent']))\n",
    "\n",
    "df = selected.query(out_fields=\"AcquisitionDate, GroupName, CloudCover\", \n",
    "                    order_by_fields=\"AcquisitionDate\").sdf\n",
    "df.head(50)"
   ]
  },
  {
   "cell_type": "code",
   "execution_count": null,
   "id": "e13abdc6",
   "metadata": {},
   "outputs": [],
   "source": [
    "import pandas as pd\n",
    "from datetime import datetime\n",
    "\n",
    "selected = l9_lyr.filter_by(time=[datetime(2019, 1, 1), datetime(2022, 1, 1)],\n",
    "                             geometry=arcgis.geometry.filters.intersects(area['extent']))\n",
    "\n",
    "df = selected.query(out_fields=\"AcquisitionDate, GroupName, CloudCover\", \n",
    "                    order_by_fields=\"AcquisitionDate\").sdf\n",
    "df.tail(50)"
   ]
  },
  {
   "cell_type": "code",
   "execution_count": null,
   "id": "8276f9e2",
   "metadata": {},
   "outputs": [],
   "source": [
    "df.shape"
   ]
  },
  {
   "cell_type": "code",
   "execution_count": null,
   "id": "ff184e07",
   "metadata": {},
   "outputs": [],
   "source": [
    "df['Time'] = pd.to_datetime(df['AcquisitionDate'], unit='ms')\n",
    "df['Time'].head(10)"
   ]
  },
  {
   "cell_type": "code",
   "execution_count": null,
   "id": "e540b8a5",
   "metadata": {},
   "outputs": [],
   "source": [
    "m = gis.map('Los Angeles', 15)\n",
    "display(m)\n",
    "m.add_layer(selected.last())"
   ]
  },
  {
   "cell_type": "code",
   "execution_count": null,
   "id": "2946b24b",
   "metadata": {},
   "outputs": [],
   "source": [
    "m = gis.map('Los Angeles', 15)\n",
    "display(m)\n",
    "m.add_layer(selected.first())"
   ]
  },
  {
   "cell_type": "code",
   "execution_count": null,
   "id": "3b4279bf",
   "metadata": {},
   "outputs": [],
   "source": [
    "old = landsat.filter_by('OBJECTID=610881')"
   ]
  },
  {
   "cell_type": "code",
   "execution_count": null,
   "id": "bf318c9d",
   "metadata": {},
   "outputs": [],
   "source": [
    "new = landsat.filter_by('OBJECTID=3434313')"
   ]
  },
  {
   "cell_type": "code",
   "execution_count": null,
   "id": "6a8bbeac",
   "metadata": {},
   "outputs": [],
   "source": [
    "from arcgis.raster.functions import *\n"
   ]
  },
  {
   "cell_type": "code",
   "execution_count": null,
   "id": "e470cd00",
   "metadata": {},
   "outputs": [],
   "source": [
    "diff = stretch(composite_band([ndvi(old, '5 4'),\n",
    "                               ndvi(new, '5 4'),\n",
    "                               ndvi(old, '5 4')]), \n",
    "                               stretch_type='stddev',  num_stddev=2.5, min=0, max=200, dra=True, astype='u8')\n",
    "diff"
   ]
  },
  {
   "cell_type": "code",
   "execution_count": null,
   "id": "329cdb86",
   "metadata": {},
   "outputs": [],
   "source": [
    "ndvi_diff = ndvi(new, '5 4') - ndvi(old, '5 4')\n"
   ]
  },
  {
   "cell_type": "code",
   "execution_count": null,
   "id": "8a805a1b",
   "metadata": {},
   "outputs": [],
   "source": [
    "ndvi_diff"
   ]
  },
  {
   "cell_type": "code",
   "execution_count": null,
   "id": "31df9df5",
   "metadata": {},
   "outputs": [],
   "source": [
    "\n",
    "threshold_val = 0.1"
   ]
  },
  {
   "cell_type": "code",
   "execution_count": null,
   "id": "62cd2345",
   "metadata": {},
   "outputs": [],
   "source": [
    "masked = colormap(remap(ndvi_diff, \n",
    "                        input_ranges=[threshold_val, 1], \n",
    "                        output_values=[1], \n",
    "                        no_data_ranges=[-1, threshold_val], astype='u8'), \n",
    "                  colormap=[[1, 124, 252, 0]], astype='u8')\n",
    "\n",
    "Image(masked.export_image(bbox=area['extent'], size=[1200,450], f='image'))"
   ]
  },
  {
   "cell_type": "code",
   "execution_count": null,
   "id": "49f5d158",
   "metadata": {},
   "outputs": [],
   "source": [
    "m = gis.map('Los Angeles')\n",
    "m"
   ]
  },
  {
   "cell_type": "code",
   "execution_count": null,
   "id": "880dee01",
   "metadata": {},
   "outputs": [],
   "source": [
    "m.add_layer(diff)\n",
    "m"
   ]
  },
  {
   "cell_type": "code",
   "execution_count": null,
   "id": "a9f70c91",
   "metadata": {},
   "outputs": [],
   "source": [
    "m.add_layer(masked)\n",
    "m"
   ]
  },
  {
   "cell_type": "code",
   "execution_count": null,
   "id": "2154a7fb",
   "metadata": {},
   "outputs": [],
   "source": []
  }
 ],
 "metadata": {
  "extensions": {
   "jupyter_dashboards": {
    "activeView": "grid_default",
    "version": 1,
    "views": {
     "grid_default": {
      "cellMargin": 10,
      "defaultCellHeight": 20,
      "maxColumns": 12,
      "name": "grid",
      "type": "grid"
     },
     "report_default": {
      "name": "report",
      "type": "report"
     }
    }
   }
  },
  "hide_input": false,
  "kernelspec": {
   "display_name": "geo",
   "language": "python",
   "name": "myenv"
  },
  "language_info": {
   "codemirror_mode": {
    "name": "ipython",
    "version": 3
   },
   "file_extension": ".py",
   "mimetype": "text/x-python",
   "name": "python",
   "nbconvert_exporter": "python",
   "pygments_lexer": "ipython3",
   "version": "3.10.6"
  },
  "toc": {
   "base_numbering": 1,
   "nav_menu": {},
   "number_sections": true,
   "sideBar": true,
   "skip_h1_title": false,
   "title_cell": "Table of Contents",
   "title_sidebar": "Contents",
   "toc_cell": false,
   "toc_position": {},
   "toc_section_display": true,
   "toc_window_display": false
  }
 },
 "nbformat": 4,
 "nbformat_minor": 5
}
